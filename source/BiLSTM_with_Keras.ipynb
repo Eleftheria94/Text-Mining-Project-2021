{
  "nbformat": 4,
  "nbformat_minor": 0,
  "metadata": {
    "colab": {
      "name": "BiLSTM with Keras.ipynb",
      "provenance": [],
      "collapsed_sections": [],
      "machine_shape": "hm"
    },
    "kernelspec": {
      "name": "python3",
      "display_name": "Python 3"
    },
    "language_info": {
      "name": "python"
    },
    "accelerator": "GPU"
  },
  "cells": [
    {
      "cell_type": "markdown",
      "source": [
        "## Bi-directional LSTM on IMDb dataset with Keras\n",
        "\n",
        "Source: https://keras.io/examples/nlp/bidirectional_lstm_imdb/"
      ],
      "metadata": {
        "id": "ENx3XAmY6l5l"
      }
    },
    {
      "cell_type": "code",
      "execution_count": null,
      "metadata": {
        "colab": {
          "base_uri": "https://localhost:8080/"
        },
        "id": "gk9dKIcIoOdk",
        "outputId": "ff334243-7b10-4725-f8bb-004c3d1a6eb0"
      },
      "outputs": [
        {
          "output_type": "stream",
          "name": "stdout",
          "text": [
            "Model: \"model\"\n",
            "_________________________________________________________________\n",
            " Layer (type)                Output Shape              Param #   \n",
            "=================================================================\n",
            " input_1 (InputLayer)        [(None, None)]            0         \n",
            "                                                                 \n",
            " embedding (Embedding)       (None, None, 128)         2560000   \n",
            "                                                                 \n",
            " bidirectional (Bidirectiona  (None, None, 128)        98816     \n",
            " l)                                                              \n",
            "                                                                 \n",
            " bidirectional_1 (Bidirectio  (None, 128)              98816     \n",
            " nal)                                                            \n",
            "                                                                 \n",
            " dense (Dense)               (None, 1)                 129       \n",
            "                                                                 \n",
            "=================================================================\n",
            "Total params: 2,757,761\n",
            "Trainable params: 2,757,761\n",
            "Non-trainable params: 0\n",
            "_________________________________________________________________\n"
          ]
        }
      ],
      "source": [
        "# Setup \n",
        "import numpy as np\n",
        "import warnings\n",
        "\n",
        "# Ignore FutureWarning from NumPy\n",
        "warnings.simplefilter(action = 'ignore', category = FutureWarning)\n",
        "\n",
        "from tensorflow import keras\n",
        "from tensorflow.keras import layers\n",
        "from keras.datasets import imdb\n",
        "from keras.preprocessing import sequence\n",
        "from keras.layers import Dense, LSTM\n",
        "from keras.models import Sequential\n",
        "from keras.layers.embeddings import Embedding\n",
        "from sklearn.metrics import f1_score, classification_report\n",
        "\n",
        "\n",
        "max_features = 20000  # Only consider the top 20k words\n",
        "max_len = 200 # Only consider the first 200 words of each movie review\n",
        "\n",
        "# Build the model\n",
        "\n",
        "# Input for variable-length sequences of integers\n",
        "inputs = keras.Input(shape = (None,), dtype = \"int32\")\n",
        "# Embed each integer in a 128-dimensional vector\n",
        "x = layers.Embedding(max_features, 128)(inputs)\n",
        "# Add 2 bidirectional LSTMs\n",
        "x = layers.Bidirectional(layers.LSTM(64, return_sequences = True))(x)\n",
        "x = layers.Bidirectional(layers.LSTM(64))(x)\n",
        "# Add a classifier\n",
        "outputs = layers.Dense(1, activation = \"sigmoid\")(x)\n",
        "model = keras.Model(inputs, outputs)\n",
        "model.summary()"
      ]
    },
    {
      "cell_type": "code",
      "source": [
        "# Load the IMDB movie review sentiment data\n",
        "(x_train, y_train), (x_test, y_test) = keras.datasets.imdb.load_data(\n",
        "    num_words = max_features, seed = 123)\n",
        "print(len(x_train), \"Training sequences\")\n",
        "print(len(x_test), \"Test sequences\")\n",
        "\n",
        "# Use pad_sequence to standardize sequence length:\n",
        "# This will truncate sequences longer than 200 words and zero-pad sequences \n",
        "# shorter than 200 words.\n",
        "x_train = keras.preprocessing.sequence.pad_sequences(x_train, maxlen = max_len)\n",
        "x_test = keras.preprocessing.sequence.pad_sequences(x_test, maxlen = max_len)"
      ],
      "metadata": {
        "colab": {
          "base_uri": "https://localhost:8080/"
        },
        "id": "gFI85VWMqQYI",
        "outputId": "2c26413d-f34f-4b26-9a14-d9f7d615aede"
      },
      "execution_count": null,
      "outputs": [
        {
          "output_type": "stream",
          "name": "stdout",
          "text": [
            "25000 Training sequences\n",
            "25000 Test sequences\n"
          ]
        }
      ]
    },
    {
      "cell_type": "code",
      "source": [
        "# Split into validation since the load_data function won't allow us to do it manually\n",
        "np.random.seed(123)\n",
        "val_ind = np.random.randint(0, 24999, 5000)\n",
        "x_val = x_train[val_ind]\n",
        "y_val = y_train[val_ind]"
      ],
      "metadata": {
        "id": "ey6TP-in7IJs"
      },
      "execution_count": null,
      "outputs": []
    },
    {
      "cell_type": "code",
      "source": [
        "# Train and evaluate the model\n",
        "model.compile(optimizer = \"adam\", loss = \"binary_crossentropy\", metrics = [\"accuracy\"])\n",
        "history = model.fit(x_train, \n",
        "                    y_train, \n",
        "                    batch_size = 32, \n",
        "                    epochs = 2, \n",
        "                    validation_data = (x_val, y_val))"
      ],
      "metadata": {
        "colab": {
          "base_uri": "https://localhost:8080/"
        },
        "id": "pGNTyKsnqR9a",
        "outputId": "49ed1d37-6a00-41c2-a86e-3c7082393911"
      },
      "execution_count": null,
      "outputs": [
        {
          "output_type": "stream",
          "name": "stdout",
          "text": [
            "Epoch 1/2\n",
            "782/782 [==============================] - 37s 38ms/step - loss: 0.4221 - accuracy: 0.8045 - val_loss: 0.2383 - val_accuracy: 0.9058\n",
            "Epoch 2/2\n",
            "782/782 [==============================] - 29s 38ms/step - loss: 0.2204 - accuracy: 0.9192 - val_loss: 0.1502 - val_accuracy: 0.9468\n"
          ]
        }
      ]
    },
    {
      "cell_type": "code",
      "source": [
        "history_dict = history.history\n",
        "acc = history_dict['accuracy']\n",
        "val_acc = history_dict['val_accuracy']\n",
        "loss = history_dict['loss']\n",
        "val_loss = history_dict['val_loss']\n",
        "epochs = range(1, len(acc) + 1)\n",
        "\n",
        "import matplotlib.pyplot as plt\n",
        "%matplotlib inline\n",
        "\n",
        "plt.rcParams[\"figure.figsize\"] = (10.0, 6.0)\n",
        "plt.plot(epochs, acc, '-r', label = 'Training accuracy')\n",
        "plt.plot(epochs, val_acc, '-b', label = 'Validation accuracy')\n",
        "plt.title('Training & validation accuracy')\n",
        "plt.xlabel('Epochs')\n",
        "plt.ylabel('Accuracy')\n",
        "plt.legend(loc = 'best')\n",
        "plt.show()"
      ],
      "metadata": {
        "colab": {
          "base_uri": "https://localhost:8080/",
          "height": 404
        },
        "id": "mDebbuPRsKRs",
        "outputId": "f47a377c-9d02-4896-fbaf-2dcf7284a45c"
      },
      "execution_count": null,
      "outputs": [
        {
          "output_type": "display_data",
          "data": {
            "image/png": "[encoded data removed]",
            "text/plain": [
              "<Figure size 720x432 with 1 Axes>"
            ]
          },
          "metadata": {
            "needs_background": "light"
          }
        }
      ]
    },
    {
      "cell_type": "code",
      "source": [
        "# Get validation accuracy + loss\n",
        "scores = model.evaluate(x_val, y_val, batch_size = 32, verbose = 0)\n",
        "print('Validation loss: %.4f' % scores[0])\n",
        "print('Validation accuracy: %.4f' % scores[1])"
      ],
      "metadata": {
        "colab": {
          "base_uri": "https://localhost:8080/"
        },
        "id": "XD3Q_WOCxnti",
        "outputId": "82a94317-da6c-4e71-c9d2-b9e974a58051"
      },
      "execution_count": null,
      "outputs": [
        {
          "output_type": "stream",
          "name": "stdout",
          "text": [
            "Validation loss: 0.1502\n",
            "Validation accuracy: 0.9468\n"
          ]
        }
      ]
    },
    {
      "cell_type": "code",
      "source": [
        "# Predict classes for test set\n",
        "yhat_classes = model.predict(x_test, verbose = 0)\n",
        "yhat_classes = np.concatenate([1 - yhat_classes, yhat_classes], axis = 1)\n",
        "yhat_classes = np.argmax(yhat_classes, axis = 1)\n",
        "\n",
        "# Get classification report\n",
        "print(\"Classification Report\")\n",
        "print(classification_report(y_test, yhat_classes))"
      ],
      "metadata": {
        "colab": {
          "base_uri": "https://localhost:8080/"
        },
        "id": "kZcnlHL4y04L",
        "outputId": "ae12171c-5d06-4e39-cc43-c29995faad46"
      },
      "execution_count": null,
      "outputs": [
        {
          "output_type": "stream",
          "name": "stdout",
          "text": [
            "Classification Report\n",
            "              precision    recall  f1-score   support\n",
            "\n",
            "           0       0.92      0.76      0.83     12500\n",
            "           1       0.80      0.93      0.86     12500\n",
            "\n",
            "    accuracy                           0.85     25000\n",
            "   macro avg       0.86      0.85      0.85     25000\n",
            "weighted avg       0.86      0.85      0.85     25000\n",
            "\n"
          ]
        }
      ]
    }
  ]
}