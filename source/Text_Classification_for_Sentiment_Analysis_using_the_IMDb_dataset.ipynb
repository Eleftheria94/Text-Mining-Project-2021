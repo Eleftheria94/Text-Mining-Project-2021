{
  "cells": [
    {
      "cell_type": "markdown",
      "metadata": {
        "id": "mizKTFL6WGxz"
      },
      "source": [
        "# Text Classification for Sentiment Analysis\n",
        "\n",
        "## Large Movie Review Dataset\n",
        "\"This is a dataset for binary sentiment classification containing substantially more data than previous benchmark datasets. We provide a set of 25,000 highly polar movie reviews for training, and 25,000 for testing. There is additional unlabeled data for use as well. Raw text and already processed bag of words formats are provided. See the README file contained in the release for more details.\"\n",
        "\n",
        "Source: http://ai.stanford.edu/~amaas/data/sentiment/\n",
        "\n",
        "This notebook was inspired by: \n",
        "\n",
        "https://towardsdatascience.com/sentiment-analysis-in-10-minutes-with-bert-and-hugging-face-294e8a04b671\n",
        "\n",
        "\n",
        "## Initial Imports"
      ]
    },
    {
      "cell_type": "code",
      "execution_count": null,
      "metadata": {
        "colab": {
          "base_uri": "https://localhost:8080/"
        },
        "id": "vgFIwyCdW7ED",
        "outputId": "1b116dce-410e-4bd6-a703-53eb7300d31a"
      },
      "outputs": [
        {
          "output_type": "stream",
          "name": "stdout",
          "text": [
            "Downloading data from https://ai.stanford.edu/~amaas/data/sentiment/aclImdb_v1.tar.gz\n",
            "84131840/84125825 [==============================] - 4s 0us/step\n",
            "84140032/84125825 [==============================] - 4s 0us/step\n",
            "['urls_unsup.txt', 'unsupBow.feat', 'urls_pos.txt', 'urls_neg.txt', 'labeledBow.feat', 'neg', 'pos']\n"
          ]
        }
      ],
      "source": [
        "# Initial packages\n",
        "import tensorflow as tf\n",
        "import pandas as pd\n",
        "import numpy as np\n",
        "import os\n",
        "import shutil\n",
        "import warnings\n",
        "\n",
        "# Ignore FutureWarnings\n",
        "warnings.simplefilter(action = 'ignore', category = FutureWarning)\n",
        "\n",
        "# Download the data from Stanford's directory\n",
        "URL = \"https://ai.stanford.edu/~amaas/data/sentiment/aclImdb_v1.tar.gz\"\n",
        "\n",
        "dataset = tf.keras.utils.get_file(fname = \"aclImdb_v1.tar.gz\", \n",
        "                                  origin = URL,\n",
        "                                  untar = True,\n",
        "                                  cache_dir = '.',\n",
        "                                  cache_subdir = '')\n",
        "\n",
        "# Remove unlabelled reviews\n",
        "# Create main directory path (\"/aclImdb\")\n",
        "main_dir = os.path.join(os.path.dirname(dataset), 'aclImdb')\n",
        "\n",
        "# Create sub directory path (\"/aclImdb/train\")\n",
        "train_dir = os.path.join(main_dir, 'train')\n",
        "\n",
        "# Remove unsup folder since this is a supervised learning task\n",
        "remove_dir = os.path.join(train_dir, 'unsup')\n",
        "shutil.rmtree(remove_dir)\n",
        "\n",
        "# View the final train folder\n",
        "print(os.listdir(train_dir))"
      ]
    },
    {
      "cell_type": "markdown",
      "metadata": {
        "id": "yepgTPKOXik9"
      },
      "source": [
        "### Train & Test Split\n",
        "\n",
        "Now that we have our data cleaned and prepared, we can create `text_dataset_from_directory` with the following lines. We want to process the entire data in a single batch which is why we have selected a very large batch size."
      ]
    },
    {
      "cell_type": "code",
      "execution_count": null,
      "metadata": {
        "colab": {
          "base_uri": "https://localhost:8080/"
        },
        "id": "tT6nR3VbXtMZ",
        "outputId": "bb9ec41f-e93f-4a2a-85d0-3bd0c2703500"
      },
      "outputs": [
        {
          "output_type": "stream",
          "name": "stdout",
          "text": [
            "Found 25000 files belonging to 2 classes.\n",
            "Using 20000 files for training.\n",
            "Found 25000 files belonging to 2 classes.\n",
            "Using 5000 files for validation.\n",
            "Found 25000 files belonging to 2 classes.\n"
          ]
        }
      ],
      "source": [
        "# Creating a training + validation dataset with a 80/20 split according to paper\n",
        "# Source: https://arxiv.org/pdf/1905.05583.pdf\n",
        "train = tf.keras.preprocessing.text_dataset_from_directory(\n",
        "    'aclImdb/train', batch_size = 30000, validation_split = 0.2, \n",
        "    subset = 'training', seed = 123)\n",
        "\n",
        "validation = tf.keras.preprocessing.text_dataset_from_directory(\n",
        "    'aclImdb/test', batch_size = 30000, validation_split = 0.2, \n",
        "    subset = 'validation', seed = 123)\n",
        "\n",
        "test = tf.keras.preprocessing.text_dataset_from_directory(\n",
        "    'aclImdb/test', batch_size = 30000, seed = 123)"
      ]
    },
    {
      "cell_type": "markdown",
      "metadata": {
        "id": "QuK18Iu5YVyU"
      },
      "source": [
        "### Convert to Pandas to View and Process\n",
        "\n",
        "Now that we have our basic train and test datasets, we want to prepare them for the models to be used. For that matter, we are going to create a pandas dataframe from our TensorFlow dataset object for easier pre-processing."
      ]
    },
    {
      "cell_type": "code",
      "execution_count": null,
      "metadata": {
        "colab": {
          "base_uri": "https://localhost:8080/",
          "height": 206
        },
        "id": "Kcaq_Z9xYuYc",
        "outputId": "22e76ef8-f5ed-45cd-cc52-47d513095a19"
      },
      "outputs": [
        {
          "output_type": "execute_result",
          "data": {
            "text/html": [
              "\n",
              "  <div id=\"df-c6877045-2207-41fc-8ac9-7818403d0e39\">\n",
              "    <div class=\"colab-df-container\">\n",
              "      <div>\n",
              "<style scoped>\n",
              "    .dataframe tbody tr th:only-of-type {\n",
              "        vertical-align: middle;\n",
              "    }\n",
              "\n",
              "    .dataframe tbody tr th {\n",
              "        vertical-align: top;\n",
              "    }\n",
              "\n",
              "    .dataframe thead th {\n",
              "        text-align: right;\n",
              "    }\n",
              "</style>\n",
              "<table border=\"1\" class=\"dataframe\">\n",
              "  <thead>\n",
              "    <tr style=\"text-align: right;\">\n",
              "      <th></th>\n",
              "      <th>Text</th>\n",
              "      <th>Label</th>\n",
              "    </tr>\n",
              "  </thead>\n",
              "  <tbody>\n",
              "    <tr>\n",
              "      <th>0</th>\n",
              "      <td>Canadian director Vincenzo Natali took the art...</td>\n",
              "      <td>1</td>\n",
              "    </tr>\n",
              "    <tr>\n",
              "      <th>1</th>\n",
              "      <td>I gave this film 10 not because it is a superb...</td>\n",
              "      <td>1</td>\n",
              "    </tr>\n",
              "    <tr>\n",
              "      <th>2</th>\n",
              "      <td>I admit to being somewhat jaded about the movi...</td>\n",
              "      <td>1</td>\n",
              "    </tr>\n",
              "    <tr>\n",
              "      <th>3</th>\n",
              "      <td>For a long time, 'The Menagerie' was my favori...</td>\n",
              "      <td>1</td>\n",
              "    </tr>\n",
              "    <tr>\n",
              "      <th>4</th>\n",
              "      <td>A truly frightening film. Feels as if it were ...</td>\n",
              "      <td>0</td>\n",
              "    </tr>\n",
              "  </tbody>\n",
              "</table>\n",
              "</div>\n",
              "      <button class=\"colab-df-convert\" onclick=\"convertToInteractive('df-c6877045-2207-41fc-8ac9-7818403d0e39')\"\n",
              "              title=\"Convert this dataframe to an interactive table.\"\n",
              "              style=\"display:none;\">\n",
              "        \n",
              "  <svg xmlns=\"http://www.w3.org/2000/svg\" height=\"24px\"viewBox=\"0 0 24 24\"\n",
              "       width=\"24px\">\n",
              "    <path d=\"M0 0h24v24H0V0z\" fill=\"none\"/>\n",
              "    <path d=\"M18.56 5.44l.94 2.06.94-2.06 2.06-.94-2.06-.94-.94-2.06-.94 2.06-2.06.94zm-11 1L8.5 8.5l.94-2.06 2.06-.94-2.06-.94L8.5 2.5l-.94 2.06-2.06.94zm10 10l.94 2.06.94-2.06 2.06-.94-2.06-.94-.94-2.06-.94 2.06-2.06.94z\"/><path d=\"M17.41 7.96l-1.37-1.37c-.4-.4-.92-.59-1.43-.59-.52 0-1.04.2-1.43.59L10.3 9.45l-7.72 7.72c-.78.78-.78 2.05 0 2.83L4 21.41c.39.39.9.59 1.41.59.51 0 1.02-.2 1.41-.59l7.78-7.78 2.81-2.81c.8-.78.8-2.07 0-2.86zM5.41 20L4 18.59l7.72-7.72 1.47 1.35L5.41 20z\"/>\n",
              "  </svg>\n",
              "      </button>\n",
              "      \n",
              "  <style>\n",
              "    .colab-df-container {\n",
              "      display:flex;\n",
              "      flex-wrap:wrap;\n",
              "      gap: 12px;\n",
              "    }\n",
              "\n",
              "    .colab-df-convert {\n",
              "      background-color: #E8F0FE;\n",
              "      border: none;\n",
              "      border-radius: 50%;\n",
              "      cursor: pointer;\n",
              "      display: none;\n",
              "      fill: #1967D2;\n",
              "      height: 32px;\n",
              "      padding: 0 0 0 0;\n",
              "      width: 32px;\n",
              "    }\n",
              "\n",
              "    .colab-df-convert:hover {\n",
              "      background-color: #E2EBFA;\n",
              "      box-shadow: 0px 1px 2px rgba(60, 64, 67, 0.3), 0px 1px 3px 1px rgba(60, 64, 67, 0.15);\n",
              "      fill: #174EA6;\n",
              "    }\n",
              "\n",
              "    [theme=dark] .colab-df-convert {\n",
              "      background-color: #3B4455;\n",
              "      fill: #D2E3FC;\n",
              "    }\n",
              "\n",
              "    [theme=dark] .colab-df-convert:hover {\n",
              "      background-color: #434B5C;\n",
              "      box-shadow: 0px 1px 3px 1px rgba(0, 0, 0, 0.15);\n",
              "      filter: drop-shadow(0px 1px 2px rgba(0, 0, 0, 0.3));\n",
              "      fill: #FFFFFF;\n",
              "    }\n",
              "  </style>\n",
              "\n",
              "      <script>\n",
              "        const buttonEl =\n",
              "          document.querySelector('#df-c6877045-2207-41fc-8ac9-7818403d0e39 button.colab-df-convert');\n",
              "        buttonEl.style.display =\n",
              "          google.colab.kernel.accessAllowed ? 'block' : 'none';\n",
              "\n",
              "        async function convertToInteractive(key) {\n",
              "          const element = document.querySelector('#df-c6877045-2207-41fc-8ac9-7818403d0e39');\n",
              "          const dataTable =\n",
              "            await google.colab.kernel.invokeFunction('convertToInteractive',\n",
              "                                                     [key], {});\n",
              "          if (!dataTable) return;\n",
              "\n",
              "          const docLinkHtml = 'Like what you see? Visit the ' +\n",
              "            '<a target=\"_blank\" href=https://colab.research.google.com/notebooks/data_table.ipynb>data table notebook</a>'\n",
              "            + ' to learn more about interactive tables.';\n",
              "          element.innerHTML = '';\n",
              "          dataTable['output_type'] = 'display_data';\n",
              "          await google.colab.output.renderOutput(dataTable, element);\n",
              "          const docLink = document.createElement('div');\n",
              "          docLink.innerHTML = docLinkHtml;\n",
              "          element.appendChild(docLink);\n",
              "        }\n",
              "      </script>\n",
              "    </div>\n",
              "  </div>\n",
              "  "
            ],
            "text/plain": [
              "                                                Text Label\n",
              "0  Canadian director Vincenzo Natali took the art...     1\n",
              "1  I gave this film 10 not because it is a superb...     1\n",
              "2  I admit to being somewhat jaded about the movi...     1\n",
              "3  For a long time, 'The Menagerie' was my favori...     1\n",
              "4  A truly frightening film. Feels as if it were ...     0"
            ]
          },
          "metadata": {},
          "execution_count": 3
        }
      ],
      "source": [
        "# Inspired by: https://towardsdatascience.com/sentiment-analysis-in-10-minutes-with-bert-and-hugging-face-294e8a04b671\n",
        "# Training set\n",
        "for i in train.take(1):\n",
        "  train_feat = i[0].numpy()\n",
        "  train_lab = i[1].numpy()\n",
        "\n",
        "train = pd.DataFrame([train_feat, train_lab]).T\n",
        "train.columns = ['Text', 'Label']\n",
        "train['Text'] = train['Text'].str.decode(\"utf-8\")\n",
        "train.head()"
      ]
    },
    {
      "cell_type": "code",
      "execution_count": null,
      "metadata": {
        "colab": {
          "base_uri": "https://localhost:8080/",
          "height": 206
        },
        "id": "4DiBNH3AcTOQ",
        "outputId": "809ae0c3-5f4c-4092-e41f-4c2d0c95674b"
      },
      "outputs": [
        {
          "output_type": "execute_result",
          "data": {
            "text/html": [
              "\n",
              "  <div id=\"df-7547f87d-208f-4127-9e31-f5889bc3f4f5\">\n",
              "    <div class=\"colab-df-container\">\n",
              "      <div>\n",
              "<style scoped>\n",
              "    .dataframe tbody tr th:only-of-type {\n",
              "        vertical-align: middle;\n",
              "    }\n",
              "\n",
              "    .dataframe tbody tr th {\n",
              "        vertical-align: top;\n",
              "    }\n",
              "\n",
              "    .dataframe thead th {\n",
              "        text-align: right;\n",
              "    }\n",
              "</style>\n",
              "<table border=\"1\" class=\"dataframe\">\n",
              "  <thead>\n",
              "    <tr style=\"text-align: right;\">\n",
              "      <th></th>\n",
              "      <th>Text</th>\n",
              "      <th>Label</th>\n",
              "    </tr>\n",
              "  </thead>\n",
              "  <tbody>\n",
              "    <tr>\n",
              "      <th>0</th>\n",
              "      <td>I couldn't relate to this film. I'm surprised ...</td>\n",
              "      <td>0</td>\n",
              "    </tr>\n",
              "    <tr>\n",
              "      <th>1</th>\n",
              "      <td>I bought this video on a throw-out table at th...</td>\n",
              "      <td>0</td>\n",
              "    </tr>\n",
              "    <tr>\n",
              "      <th>2</th>\n",
              "      <td>I first read about the Left Behind series a fe...</td>\n",
              "      <td>0</td>\n",
              "    </tr>\n",
              "    <tr>\n",
              "      <th>3</th>\n",
              "      <td>If there were an EPA for film, then this movie...</td>\n",
              "      <td>0</td>\n",
              "    </tr>\n",
              "    <tr>\n",
              "      <th>4</th>\n",
              "      <td>Chicago reporter Frank Quinlan decided to go t...</td>\n",
              "      <td>1</td>\n",
              "    </tr>\n",
              "  </tbody>\n",
              "</table>\n",
              "</div>\n",
              "      <button class=\"colab-df-convert\" onclick=\"convertToInteractive('df-7547f87d-208f-4127-9e31-f5889bc3f4f5')\"\n",
              "              title=\"Convert this dataframe to an interactive table.\"\n",
              "              style=\"display:none;\">\n",
              "        \n",
              "  <svg xmlns=\"http://www.w3.org/2000/svg\" height=\"24px\"viewBox=\"0 0 24 24\"\n",
              "       width=\"24px\">\n",
              "    <path d=\"M0 0h24v24H0V0z\" fill=\"none\"/>\n",
              "    <path d=\"M18.56 5.44l.94 2.06.94-2.06 2.06-.94-2.06-.94-.94-2.06-.94 2.06-2.06.94zm-11 1L8.5 8.5l.94-2.06 2.06-.94-2.06-.94L8.5 2.5l-.94 2.06-2.06.94zm10 10l.94 2.06.94-2.06 2.06-.94-2.06-.94-.94-2.06-.94 2.06-2.06.94z\"/><path d=\"M17.41 7.96l-1.37-1.37c-.4-.4-.92-.59-1.43-.59-.52 0-1.04.2-1.43.59L10.3 9.45l-7.72 7.72c-.78.78-.78 2.05 0 2.83L4 21.41c.39.39.9.59 1.41.59.51 0 1.02-.2 1.41-.59l7.78-7.78 2.81-2.81c.8-.78.8-2.07 0-2.86zM5.41 20L4 18.59l7.72-7.72 1.47 1.35L5.41 20z\"/>\n",
              "  </svg>\n",
              "      </button>\n",
              "      \n",
              "  <style>\n",
              "    .colab-df-container {\n",
              "      display:flex;\n",
              "      flex-wrap:wrap;\n",
              "      gap: 12px;\n",
              "    }\n",
              "\n",
              "    .colab-df-convert {\n",
              "      background-color: #E8F0FE;\n",
              "      border: none;\n",
              "      border-radius: 50%;\n",
              "      cursor: pointer;\n",
              "      display: none;\n",
              "      fill: #1967D2;\n",
              "      height: 32px;\n",
              "      padding: 0 0 0 0;\n",
              "      width: 32px;\n",
              "    }\n",
              "\n",
              "    .colab-df-convert:hover {\n",
              "      background-color: #E2EBFA;\n",
              "      box-shadow: 0px 1px 2px rgba(60, 64, 67, 0.3), 0px 1px 3px 1px rgba(60, 64, 67, 0.15);\n",
              "      fill: #174EA6;\n",
              "    }\n",
              "\n",
              "    [theme=dark] .colab-df-convert {\n",
              "      background-color: #3B4455;\n",
              "      fill: #D2E3FC;\n",
              "    }\n",
              "\n",
              "    [theme=dark] .colab-df-convert:hover {\n",
              "      background-color: #434B5C;\n",
              "      box-shadow: 0px 1px 3px 1px rgba(0, 0, 0, 0.15);\n",
              "      filter: drop-shadow(0px 1px 2px rgba(0, 0, 0, 0.3));\n",
              "      fill: #FFFFFF;\n",
              "    }\n",
              "  </style>\n",
              "\n",
              "      <script>\n",
              "        const buttonEl =\n",
              "          document.querySelector('#df-7547f87d-208f-4127-9e31-f5889bc3f4f5 button.colab-df-convert');\n",
              "        buttonEl.style.display =\n",
              "          google.colab.kernel.accessAllowed ? 'block' : 'none';\n",
              "\n",
              "        async function convertToInteractive(key) {\n",
              "          const element = document.querySelector('#df-7547f87d-208f-4127-9e31-f5889bc3f4f5');\n",
              "          const dataTable =\n",
              "            await google.colab.kernel.invokeFunction('convertToInteractive',\n",
              "                                                     [key], {});\n",
              "          if (!dataTable) return;\n",
              "\n",
              "          const docLinkHtml = 'Like what you see? Visit the ' +\n",
              "            '<a target=\"_blank\" href=https://colab.research.google.com/notebooks/data_table.ipynb>data table notebook</a>'\n",
              "            + ' to learn more about interactive tables.';\n",
              "          element.innerHTML = '';\n",
              "          dataTable['output_type'] = 'display_data';\n",
              "          await google.colab.output.renderOutput(dataTable, element);\n",
              "          const docLink = document.createElement('div');\n",
              "          docLink.innerHTML = docLinkHtml;\n",
              "          element.appendChild(docLink);\n",
              "        }\n",
              "      </script>\n",
              "    </div>\n",
              "  </div>\n",
              "  "
            ],
            "text/plain": [
              "                                                Text Label\n",
              "0  I couldn't relate to this film. I'm surprised ...     0\n",
              "1  I bought this video on a throw-out table at th...     0\n",
              "2  I first read about the Left Behind series a fe...     0\n",
              "3  If there were an EPA for film, then this movie...     0\n",
              "4  Chicago reporter Frank Quinlan decided to go t...     1"
            ]
          },
          "metadata": {},
          "execution_count": 4
        }
      ],
      "source": [
        "# Inspired by: https://towardsdatascience.com/sentiment-analysis-in-10-minutes-with-bert-and-hugging-face-294e8a04b671\n",
        "# Validation set\n",
        "for j in validation.take(1):\n",
        "  validation_feat = j[0].numpy()\n",
        "  validation_lab = j[1].numpy()\n",
        "\n",
        "validation = pd.DataFrame([validation_feat, validation_lab]).T\n",
        "validation.columns = ['Text', 'Label']\n",
        "validation['Text'] = validation['Text'].str.decode(\"utf-8\")\n",
        "validation.head()"
      ]
    },
    {
      "cell_type": "code",
      "execution_count": null,
      "metadata": {
        "colab": {
          "base_uri": "https://localhost:8080/",
          "height": 206
        },
        "id": "T8zXvKJ0EJId",
        "outputId": "19a3286c-3a65-4d69-c275-5c7680d59eea"
      },
      "outputs": [
        {
          "output_type": "execute_result",
          "data": {
            "text/html": [
              "\n",
              "  <div id=\"df-642f6db0-184c-4e01-a93f-f76b7c16ef16\">\n",
              "    <div class=\"colab-df-container\">\n",
              "      <div>\n",
              "<style scoped>\n",
              "    .dataframe tbody tr th:only-of-type {\n",
              "        vertical-align: middle;\n",
              "    }\n",
              "\n",
              "    .dataframe tbody tr th {\n",
              "        vertical-align: top;\n",
              "    }\n",
              "\n",
              "    .dataframe thead th {\n",
              "        text-align: right;\n",
              "    }\n",
              "</style>\n",
              "<table border=\"1\" class=\"dataframe\">\n",
              "  <thead>\n",
              "    <tr style=\"text-align: right;\">\n",
              "      <th></th>\n",
              "      <th>Text</th>\n",
              "      <th>Label</th>\n",
              "    </tr>\n",
              "  </thead>\n",
              "  <tbody>\n",
              "    <tr>\n",
              "      <th>0</th>\n",
              "      <td>A lovely librarian, played by Playboy model Kr...</td>\n",
              "      <td>1</td>\n",
              "    </tr>\n",
              "    <tr>\n",
              "      <th>1</th>\n",
              "      <td>I suffered the watching of this movie at Sitge...</td>\n",
              "      <td>0</td>\n",
              "    </tr>\n",
              "    <tr>\n",
              "      <th>2</th>\n",
              "      <td>It may not have had the big budgets, celebriti...</td>\n",
              "      <td>1</td>\n",
              "    </tr>\n",
              "    <tr>\n",
              "      <th>3</th>\n",
              "      <td>This early film from future goremeister Lucio ...</td>\n",
              "      <td>1</td>\n",
              "    </tr>\n",
              "    <tr>\n",
              "      <th>4</th>\n",
              "      <td>I didn't see this movie until it appeared on t...</td>\n",
              "      <td>1</td>\n",
              "    </tr>\n",
              "  </tbody>\n",
              "</table>\n",
              "</div>\n",
              "      <button class=\"colab-df-convert\" onclick=\"convertToInteractive('df-642f6db0-184c-4e01-a93f-f76b7c16ef16')\"\n",
              "              title=\"Convert this dataframe to an interactive table.\"\n",
              "              style=\"display:none;\">\n",
              "        \n",
              "  <svg xmlns=\"http://www.w3.org/2000/svg\" height=\"24px\"viewBox=\"0 0 24 24\"\n",
              "       width=\"24px\">\n",
              "    <path d=\"M0 0h24v24H0V0z\" fill=\"none\"/>\n",
              "    <path d=\"M18.56 5.44l.94 2.06.94-2.06 2.06-.94-2.06-.94-.94-2.06-.94 2.06-2.06.94zm-11 1L8.5 8.5l.94-2.06 2.06-.94-2.06-.94L8.5 2.5l-.94 2.06-2.06.94zm10 10l.94 2.06.94-2.06 2.06-.94-2.06-.94-.94-2.06-.94 2.06-2.06.94z\"/><path d=\"M17.41 7.96l-1.37-1.37c-.4-.4-.92-.59-1.43-.59-.52 0-1.04.2-1.43.59L10.3 9.45l-7.72 7.72c-.78.78-.78 2.05 0 2.83L4 21.41c.39.39.9.59 1.41.59.51 0 1.02-.2 1.41-.59l7.78-7.78 2.81-2.81c.8-.78.8-2.07 0-2.86zM5.41 20L4 18.59l7.72-7.72 1.47 1.35L5.41 20z\"/>\n",
              "  </svg>\n",
              "      </button>\n",
              "      \n",
              "  <style>\n",
              "    .colab-df-container {\n",
              "      display:flex;\n",
              "      flex-wrap:wrap;\n",
              "      gap: 12px;\n",
              "    }\n",
              "\n",
              "    .colab-df-convert {\n",
              "      background-color: #E8F0FE;\n",
              "      border: none;\n",
              "      border-radius: 50%;\n",
              "      cursor: pointer;\n",
              "      display: none;\n",
              "      fill: #1967D2;\n",
              "      height: 32px;\n",
              "      padding: 0 0 0 0;\n",
              "      width: 32px;\n",
              "    }\n",
              "\n",
              "    .colab-df-convert:hover {\n",
              "      background-color: #E2EBFA;\n",
              "      box-shadow: 0px 1px 2px rgba(60, 64, 67, 0.3), 0px 1px 3px 1px rgba(60, 64, 67, 0.15);\n",
              "      fill: #174EA6;\n",
              "    }\n",
              "\n",
              "    [theme=dark] .colab-df-convert {\n",
              "      background-color: #3B4455;\n",
              "      fill: #D2E3FC;\n",
              "    }\n",
              "\n",
              "    [theme=dark] .colab-df-convert:hover {\n",
              "      background-color: #434B5C;\n",
              "      box-shadow: 0px 1px 3px 1px rgba(0, 0, 0, 0.15);\n",
              "      filter: drop-shadow(0px 1px 2px rgba(0, 0, 0, 0.3));\n",
              "      fill: #FFFFFF;\n",
              "    }\n",
              "  </style>\n",
              "\n",
              "      <script>\n",
              "        const buttonEl =\n",
              "          document.querySelector('#df-642f6db0-184c-4e01-a93f-f76b7c16ef16 button.colab-df-convert');\n",
              "        buttonEl.style.display =\n",
              "          google.colab.kernel.accessAllowed ? 'block' : 'none';\n",
              "\n",
              "        async function convertToInteractive(key) {\n",
              "          const element = document.querySelector('#df-642f6db0-184c-4e01-a93f-f76b7c16ef16');\n",
              "          const dataTable =\n",
              "            await google.colab.kernel.invokeFunction('convertToInteractive',\n",
              "                                                     [key], {});\n",
              "          if (!dataTable) return;\n",
              "\n",
              "          const docLinkHtml = 'Like what you see? Visit the ' +\n",
              "            '<a target=\"_blank\" href=https://colab.research.google.com/notebooks/data_table.ipynb>data table notebook</a>'\n",
              "            + ' to learn more about interactive tables.';\n",
              "          element.innerHTML = '';\n",
              "          dataTable['output_type'] = 'display_data';\n",
              "          await google.colab.output.renderOutput(dataTable, element);\n",
              "          const docLink = document.createElement('div');\n",
              "          docLink.innerHTML = docLinkHtml;\n",
              "          element.appendChild(docLink);\n",
              "        }\n",
              "      </script>\n",
              "    </div>\n",
              "  </div>\n",
              "  "
            ],
            "text/plain": [
              "                                                Text Label\n",
              "0  A lovely librarian, played by Playboy model Kr...     1\n",
              "1  I suffered the watching of this movie at Sitge...     0\n",
              "2  It may not have had the big budgets, celebriti...     1\n",
              "3  This early film from future goremeister Lucio ...     1\n",
              "4  I didn't see this movie until it appeared on t...     1"
            ]
          },
          "metadata": {},
          "execution_count": 5
        }
      ],
      "source": [
        "# Inspired by: https://towardsdatascience.com/sentiment-analysis-in-10-minutes-with-bert-and-hugging-face-294e8a04b671\n",
        "# Test set\n",
        "for j in test.take(1):\n",
        "  test_feat = j[0].numpy()\n",
        "  test_lab = j[1].numpy()\n",
        "\n",
        "test = pd.DataFrame([test_feat, test_lab]).T\n",
        "test.columns = ['Text', 'Label']\n",
        "test['Text'] = test['Text'].str.decode(\"utf-8\")\n",
        "test.head()"
      ]
    },
    {
      "cell_type": "markdown",
      "metadata": {
        "id": "uzMP71_Od_ul"
      },
      "source": [
        "## Exploring the data set\n",
        "\n",
        "### Checking if data set is balanced..."
      ]
    },
    {
      "cell_type": "code",
      "execution_count": null,
      "metadata": {
        "colab": {
          "base_uri": "https://localhost:8080/"
        },
        "id": "hDXT_dJzeYRX",
        "outputId": "b3ced1f8-a030-49c7-edaa-82f234164739"
      },
      "outputs": [
        {
          "output_type": "stream",
          "name": "stdout",
          "text": [
            "1    25000\n",
            "0    25000\n",
            "Name: Label, dtype: int64\n"
          ]
        }
      ],
      "source": [
        "# Concatenate the two data sets\n",
        "df = pd.concat([train, validation, test], ignore_index = True)\n",
        "#df.loc[0]\n",
        "\n",
        "# Check if data set is balanced\n",
        "print(df['Label'].value_counts())"
      ]
    },
    {
      "cell_type": "code",
      "execution_count": null,
      "metadata": {
        "colab": {
          "base_uri": "https://localhost:8080/"
        },
        "id": "w9H1fkIRO0Sb",
        "outputId": "0ade06b6-07c7-46f3-b491-ec4b7e21144f"
      },
      "outputs": [
        {
          "output_type": "stream",
          "name": "stdout",
          "text": [
            "Average word length of reviews: 230\n",
            "Max word length of reviews: 2470\n",
            "Average character length of reviews: 1305\n"
          ]
        }
      ],
      "source": [
        "# Check word + character length\n",
        "print('Average word length of reviews: {0:.0f}'.format(np.mean(df['Text'].apply(lambda x: len(x.split())))))\n",
        "print('Max word length of reviews: {0:.0f}'.format(np.max(df['Text'].apply(lambda x: len(x.split())))))\n",
        "print('Average character length of reviews: {0:.0f}'.format(np.mean(df['Text'].apply(lambda x: len(x)))))"
      ]
    },
    {
      "cell_type": "markdown",
      "metadata": {
        "id": "i8i5muU0hkQd"
      },
      "source": [
        "### Visualize the classes"
      ]
    },
    {
      "cell_type": "code",
      "execution_count": null,
      "metadata": {
        "colab": {
          "base_uri": "https://localhost:8080/",
          "height": 513
        },
        "id": "HnzNY7hqhf4r",
        "outputId": "67110712-3cb2-4cb7-ae32-a23f91d95125"
      },
      "outputs": [
        {
          "output_type": "display_data",
          "data": {
            "image/png": "[encoded data removed]",
            "text/plain": [
              "<Figure size 720x576 with 1 Axes>"
            ]
          },
          "metadata": {
            "needs_background": "light"
          }
        }
      ],
      "source": [
        "import matplotlib.pyplot as plt\n",
        "%matplotlib inline\n",
        "\n",
        "plt.rcParams[\"figure.figsize\"] = (10.0, 8.0)\n",
        "barplot = plt.bar([0, 1], [df['Label'].value_counts()[0], df['Label'].value_counts()[1]], \n",
        "                  width = 0.8, color = 'cornflowerblue')\n",
        "barplot[0].set_color('orange')\n",
        "plt.xlabel('Label')\n",
        "plt.ylabel('Number of samples')\n",
        "plt.title('Class distribution')\n",
        "plt.xticks(range(2), ['negative', 'positive']) \n",
        "plt.show()"
      ]
    },
    {
      "cell_type": "markdown",
      "metadata": {
        "id": "-MO39xb7l8kD"
      },
      "source": [
        "### Checking for most common words in the data set"
      ]
    },
    {
      "cell_type": "code",
      "execution_count": null,
      "metadata": {
        "id": "2QMpte5nmD5Y"
      },
      "outputs": [],
      "source": [
        " # Convert data frame to numPy array for hassle-free use in the following \n",
        " # functions\n",
        " df_arr = np.asarray(df['Text'])"
      ]
    },
    {
      "cell_type": "code",
      "execution_count": null,
      "metadata": {
        "id": "CoM--wHCmxPb"
      },
      "outputs": [],
      "source": [
        "from __future__ import absolute_import\n",
        "from __future__ import division\n",
        "from __future__ import print_function\n",
        "from collections import Counter\n",
        "from sklearn.feature_extraction.text import CountVectorizer\n",
        "\n",
        "def plot_frequency_distribution_of_ngrams(sample_texts,\n",
        "                                          ngram_range = (1, 1),\n",
        "                                          num_ngrams = 50):\n",
        "    \"\"\"\n",
        "    Plots the frequency distribution of n-grams.\n",
        "\n",
        "    # Arguments\n",
        "        samples_texts: list, sample texts.\n",
        "        ngram_range: tuple (min, mplt), The range of n-gram values to consider.\n",
        "            Min and mplt are the lower and upper bound values for the range.\n",
        "        num_ngrams: int, number of n-grams to plot.\n",
        "\n",
        "    # Returns:\n",
        "       Top `num_ngrams` frequent n-grams will be plotted.\n",
        "\n",
        "    # Source: https://github.com/google/eng-edu/blob/main/ml/guides/text_classification/explore_data.py\n",
        "    \"\"\"\n",
        "    # Create args required for vectorizing.\n",
        "    kwargs = {\n",
        "            'ngram_range': ngram_range,\n",
        "            'dtype': 'int32',\n",
        "            'strip_accents': 'unicode',\n",
        "            'decode_error': 'replace',\n",
        "            'analyzer': 'word',  # Split text into word tokens\n",
        "    }\n",
        "    vectorizer = CountVectorizer(**kwargs)\n",
        "\n",
        "    # This creates a vocabulary (dict, where keys are n-grams and values are\n",
        "    # indices). This also converts every text to an array the length of\n",
        "    # vocabulary, where every element idxicates the count of the n-gram\n",
        "    # corresponding at that idxex in vocabulary\n",
        "    vectorized_texts = vectorizer.fit_transform(sample_texts)\n",
        "\n",
        "    # This is the list of all n-grams in the index order from the vocabulary\n",
        "    all_ngrams = list(vectorizer.get_feature_names_out())\n",
        "    num_ngrams = min(num_ngrams, len(all_ngrams))\n",
        "    \n",
        "    # Add up the counts per n-gram ie. column-wise\n",
        "    all_counts = vectorized_texts.sum(axis = 0).tolist()[0]\n",
        "\n",
        "    # Sort n-grams and counts by frequency and get top `num_ngrams` ngrams\n",
        "    all_counts, all_ngrams = zip(*[(c, n) for c, n in sorted(\n",
        "        zip(all_counts, all_ngrams), reverse = True)])\n",
        "    ngrams = list(all_ngrams)[:num_ngrams]\n",
        "    counts = list(all_counts)[:num_ngrams]\n",
        "\n",
        "    idx = np.arange(num_ngrams)\n",
        "    plt.rcParams[\"figure.figsize\"] = (20.0, 10.0)\n",
        "    plt.bar(idx, counts, width = 0.8, color = 'cornflowerblue')\n",
        "    plt.xlabel('bigrams')\n",
        "    plt.ylabel('Frequencies')\n",
        "    plt.title('Frequency distribution of bigrams')\n",
        "    plt.xticks(idx, ngrams, rotation = 45)\n",
        "    plt.show()"
      ]
    },
    {
      "cell_type": "code",
      "execution_count": null,
      "metadata": {
        "colab": {
          "base_uri": "https://localhost:8080/",
          "height": 615
        },
        "id": "dTL3GUlKn9fa",
        "outputId": "02e00d44-f036-41fa-b63a-955edc824924"
      },
      "outputs": [
        {
          "output_type": "display_data",
          "data": {
            "image/png": "[encoded data removed]",
            "text/plain": [
              "<Figure size 1440x720 with 1 Axes>"
            ]
          },
          "metadata": {
            "needs_background": "light"
          }
        }
      ],
      "source": [
        "plot_frequency_distribution_of_ngrams(df_arr, ngram_range = (2, 2))"
      ]
    },
    {
      "cell_type": "markdown",
      "metadata": {
        "id": "wjfDybdNpiB_"
      },
      "source": [
        "### Checking the distribution of the Reviews (Positive & Negative)"
      ]
    },
    {
      "cell_type": "code",
      "execution_count": null,
      "metadata": {
        "colab": {
          "base_uri": "https://localhost:8080/",
          "height": 513
        },
        "id": "TYJQA_oMpuDv",
        "outputId": "69e861eb-10c2-42e6-c737-eff36a6c7596"
      },
      "outputs": [
        {
          "output_type": "display_data",
          "data": {
            "image/png": "[encoded data removed]",
            "text/plain": [
              "<Figure size 720x576 with 1 Axes>"
            ]
          },
          "metadata": {
            "needs_background": "light"
          }
        }
      ],
      "source": [
        "# Categorizing into positive + negative\n",
        "pos = df[df['Label'] == 1]['Text']\n",
        "neg = df[df['Label'] == 0]['Text']\n",
        "\n",
        "# Checking the distribution of positive reviews\n",
        "def plot_sample_length_distribution(sample_texts):\n",
        "    \"\"\"\n",
        "    Plots the sample length distribution.\n",
        "\n",
        "    # Arguments\n",
        "        samples_texts: list, sample texts.\n",
        "\n",
        "    # Returns\n",
        "        Plots the length i.e. how many characters each sample has\n",
        "\n",
        "    # Source: https://github.com/google/eng-edu/blob/main/ml/guides/text_classification/explore_data.py\n",
        "    \"\"\"\n",
        "    \n",
        "    plt.rcParams[\"figure.figsize\"] = (10.0, 8.0)\n",
        "    plt.hist([len(s) for s in sample_texts], 50, color = 'cornflowerblue')\n",
        "    plt.xlabel('Length of a positive sample')\n",
        "    plt.ylabel('Number of positive samples')\n",
        "    plt.xlim(0, 8000)\n",
        "    plt.ylim(0, 7500)\n",
        "    plt.title('Sample length distribution')\n",
        "    plt.show()\n",
        "  \n",
        "plot_sample_length_distribution(pos)"
      ]
    },
    {
      "cell_type": "code",
      "execution_count": null,
      "metadata": {
        "colab": {
          "base_uri": "https://localhost:8080/",
          "height": 513
        },
        "id": "unolGkzHqy9q",
        "outputId": "83b813f6-8d1e-47ef-c4ae-1578ae6afba8"
      },
      "outputs": [
        {
          "output_type": "display_data",
          "data": {
            "image/png": "[encoded data removed]",
            "text/plain": [
              "<Figure size 720x576 with 1 Axes>"
            ]
          },
          "metadata": {
            "needs_background": "light"
          }
        }
      ],
      "source": [
        "# Checking the distribution of negative reviews\n",
        "def plot_sample_length_distribution(sample_texts):\n",
        "    \"\"\"\n",
        "    Plots the sample length distribution.\n",
        "\n",
        "    # Arguments\n",
        "        samples_texts: list, sample texts.\n",
        "\n",
        "    # Returns\n",
        "        Plots the length i.e. how many characters each sample has\n",
        "\n",
        "    # Source: https://github.com/google/eng-edu/blob/main/ml/guides/text_classification/explore_data.py\n",
        "    \"\"\"\n",
        "    \n",
        "    plt.rcParams[\"figure.figsize\"] = (10.0, 8.0)\n",
        "    plt.hist([len(s) for s in sample_texts], 50, color = 'cornflowerblue')\n",
        "    plt.xlabel('Length of a negative sample')\n",
        "    plt.ylabel('Number of samples')\n",
        "    plt.xlim(0, 8000)\n",
        "    plt.ylim(0, 7500)\n",
        "    plt.title('Sample length distribution')\n",
        "    plt.show()\n",
        "  \n",
        "plot_sample_length_distribution(neg)"
      ]
    },
    {
      "cell_type": "markdown",
      "metadata": {
        "id": "VLGXqd-CwYXu"
      },
      "source": [
        "Let us visualize the reviews as well."
      ]
    },
    {
      "cell_type": "code",
      "execution_count": null,
      "metadata": {
        "colab": {
          "base_uri": "https://localhost:8080/"
        },
        "id": "-xXrdqZBwd8d",
        "outputId": "a66a45de-d3c9-48c2-8fce-1fc5c24852f7"
      },
      "outputs": [
        {
          "output_type": "stream",
          "name": "stdout",
          "text": [
            "\n"
          ]
        }
      ],
      "source": [
        "# Code adapted from: \n",
        "# https://www.enjoyalgorithms.com/blog/sentiment-analysis-using-machine-learning\n",
        "# Uncomment to produce an interactive plot else go to \"Sentiment Visualization.html\"\n",
        "# file.\n",
        "\n",
        "\"\"\"!pip install scattertext\n",
        "import scattertext as st\n",
        "from IPython.display import IFrame\n",
        "from IPython.core.display import display, HTML\n",
        "from scattertext import CorpusFromPandas, produce_scattertext_explorer\n",
        "\n",
        "di = {1: \"Positive\", 0: \"Negative\"}\n",
        "parsed = df.assign(parse = lambda df: df.Text.apply(st.whitespace_nlp_with_sentences))\n",
        "parsed = parsed.replace({\"Label\": di})\n",
        "corpus = st.CorpusFromParsedDocuments(parsed.iloc[:2000, :], \n",
        "                                      category_col = 'Label', \n",
        "                                      parsed_col = 'parse').build()\n",
        "html = st.produce_scattertext_explorer(corpus,\n",
        "                                       category = \"Positive\",\n",
        "                                       category_name = \"Positive\",\n",
        "                                       not_category_name = \"Negative\",\n",
        "                                       minimum_term_frequency = 5,\n",
        "                                       width_in_pixels = 1000, \n",
        "                                       transform = st.Scalers.log_scale_standardize)\n",
        "file_name = 'Sentiment Visualization.html'\n",
        "open(file_name, 'wb').write(html.encode('utf-8'))\n",
        "IFrame(src = file_name, width = 1000, height = 700)\"\"\"\n",
        "print(\"\") # to avoid displaying the text in docstrings"
      ]
    },
    {
      "cell_type": "markdown",
      "metadata": {
        "id": "N5Gb76C4sGPh"
      },
      "source": [
        "## Text Pre-Processing\n",
        "\n",
        "Before we move on to the choice of models to train, it is essential to pre-process our text for the presence of contractions, tags, special characters, stop words, lemmas and extra letters. Therefore, we will start by looking at some raw text to check which actions are necessary."
      ]
    },
    {
      "cell_type": "code",
      "execution_count": null,
      "metadata": {
        "colab": {
          "base_uri": "https://localhost:8080/"
        },
        "id": "Bs1RJG9_tAhS",
        "outputId": "76527f8f-9c55-47ca-ab82-d611243b55cf"
      },
      "outputs": [
        {
          "output_type": "execute_result",
          "data": {
            "text/plain": [
              "array([\"Canadian director Vincenzo Natali took the art-house circuit by storm with the intriguing and astonishingly intelligent Cube, which is my personal favourite SF film of the 90s. It framed the basic conceit of a group of strangers trapped in a maze shaped like a giant cube, shot entirely on one set, and took this idea in fascinating directions. <br /><br />I've been eagerly awaiting Natali's follow-up, and although its taken five years for him to mount another project, I'm delighted to say it was worth the wait. Cypher is a fascinating exploration of one man's place in the world, and how through a completely logical chain of events, finds himself in a situation beyond his control.<br /><br />I don't want to reveal too much about the plot, because one of the joys of Cypher is the different avenues it takes us down. It is so refreshing in this day and age to see a SF film that has more than one idea in it's head. Cypher is such a film.<br /><br />Morgan Sullivan (Jeremy Northam), one of the blandest people to ever walk the planet, is hired by the company DigiCorp. They send him to different parts of America to record different seminars. To his bewilderment, they are unbelievably boring. Covering topics as mundane as shaving cream and cheese.<br /><br />While Morgan is waiting for one seminar, he runs into Rita Foster (an impeccably cast Lucy Liu), the definition of an ice maiden. She gives him the brush-off, but there is something to her he finds irresistible. That's not too surprising considering the dry marriage he is in. <br /><br />When Rita turns up at another one of Morgan's seminars, she tells him his life is not what it appears. And I'm not saying anything more about the plot. To do so would cheapen the impact the rest of the film has on us, as well as the tortuous path that's so much fun to follow.<br /><br />As with Cube, Natali shows quite a talent for encompassing seemingly ordinary people, taking them out of the familiar, and basically seeing what will happen when they're thrust into the unknown. And Cypher follows similar patterns. But it's not a carbon copy of Cube. It has it's own inspiration.<br /><br />Cypher is a film that has more in common with conspiracy thrillers and paranoia stories. One of the great things about Cypher is the way these themes creep into the story without your knowledge. When Morgan realises his false identity is a piece of a much larger puzzle, it's as much of a shock to us as it is to him.<br /><br />One thing that distinguishes Cypher from Cube is how much more polished it is. Where Cube was confined to a minimalist setting and a shoestring budget with a cast of unknowns, Cypher is also on a low budget, but Natali economises it as much as he can, allowing him to broaden the horizon, and launching Morgan on an amazing journey through the labyrinth of his own identity.<br /><br />Natali's direction is exceptional, with a deft hand on the reins. There are some amazing camera angles from above, such as the enormity of the DigiCorp building as a vast, robust office block in conjunction to the insignificant speck that is Morgan standing outside. All the colour appears to have been bled out of the picture, which compliments the tone of the film perfectly as a modern day film-noir.<br /><br />The acting is uniformly excellent throughout. Jeremy Northam is a sympathetic figure from his loveless marriage to questioning his own identity. His performance is excellent because it's so modulated. He literally seems to transform right before our very eyes. From a clinical, spineless wimp to a confident man who will do anything to preserve his new identity.<br /><br />David Hewlett puts in a welcome appearance who made such an impact in Cube. He resides in a secret silo that looks like it was borrowed from Men in Black. His scene is one of the best because it's an exercise in carefully calculated suspense and paranoia. He is a supposed expert in identifying double-agents, and it's a fantastic piece of writing, brilliantly acted by Hewlett. All he has to do is look at Morgan, and we're drawn into his complex mind game.<br /><br />But it's Lucy Liu who's the scene stealer here. Too often she is cast in films where her potential is not utilised to full effect. But in Cypher, she is finally given a character that fits her like a glove. Rita is an aloof, guarded femme fatale that Liu inhabits with relish. I perked up every time she appeared because she is always in control, and can reduce a room to silence by the power of her icy stare alone.<br /><br />Things come to a very gratifying end, that doesn't conclude on an ambiguous note the way Cube did. But Morgan deserves his happy ending. After he's been put through the ringer like this, I cheered for him in the final scene. It's a perfect final moment because it comes as a ray of sunshine after a gloomy 90 minutes.<br /><br />Cypher succeeds on all counts. Engaging, shocking, always entertaining, it's everything that Total Recall wanted to be but wasn't. And it comes as a refreshing antidote to the overwhelming and inexplicable Matrix.<br /><br />A fine follow-up from Natali. And now I'm a committed fan of the man. Superb stuff!\",\n",
              "       \"I gave this film 10 not because it is a superbly consistent movie, but for it's pure ability to evoke emotions in its audience. The story of one-woman's-struggle-against-all-odds is an old cliché by now, but very few films have carried it off with so much warmth and sincerity as The Color Purple.<br /><br />It also showed a different side to the African-American experience - showing that after slaves were granted freedom many fell into the ways of the hated 'white man' and were abusive of their own people. I find this an important point as it goes against the portray-white-on-black-violence-and-win-an-Oscar trend.<br /><br />Also the acting performances are superb - especially Oprah who I now have a new found respect for.<br /><br />Well worth watching - but keep some tissue handy.\",\n",
              "       'I admit to being somewhat jaded about the movie genre of a young child softening the heart of his/her reluctant guardian. I\\'ve seen enough of them \\x97 Baby Boom, Kolya, About a Boy, Mostly Martha, and to some extent, Whale Rider \\x97 to expect to be bored by the formula. What held my attention in The King of Masks was the grimness of the setting: small-town China in the 1930\\'s. Extreme poverty was the norm, and girl children were considered so worthless to poor parents that they killed them at birth or gave them to whomever would take them on the black market. When Wang discovers his purchased grandson, whom he\\'s nicknamed \"Doggie,\" is a granddaughter, he initially casts her out, even though she\\'s showed great promise as street-performing heir. Even after he reluctantly takes her back, he\\'s not too upset when she\\'s kidnapped. The film is gritty then, showing the lengths to which a young, street-smart girl had to go to survive in that society.<br /><br />The two lead performances are believable and beguiling in their societal context. In a Western society, one would expect at least a hint of resentment from Wang at not having achieved more material success. Wang so thoroughly accepts his station as a celebrated artist with low societal status, though, that I did, too. While Doggie exhibits a level of precociousness and cunning that would be suspect in a modern, suburban child, it\\'s completely believable in the context of a kid constantly in survival mode in a society that treats poor girls like garbage. And after learning that her previous seven owners have physically and mentally abused her, her fierce attachment to Wang makes perfect sense.<br /><br />The peek at small-town life in a foreign country, the naturalness of the two lead actors, the surprising plot twists, and of course, the heartwarming resolution all contribute to a very watchable film.',\n",
              "       \"For a long time, 'The Menagerie' was my favorite 'Star Trek' episode though in recent years it has been eclipsed by 'City on the Edge of Forever.' What I used to prefer about 'Menagerie' was that it's more hard-core Star Trek with this fascinating back-story to the then-current Trek storyline. I still think it's fairly ingenious the way Gene Roddenberry incorporated the original pilot into a two-part episode. Though the 'new' part of the story is largely an excuse for Kirk and a few others (and us) to watch the pilot, the idea of Spock being court-martialed is a clever one. You can poke holes in the plot if you want. For instance, given the Talosians' mind-control abilities and Captain Pike's condition, why is it even necessary to physically bring Pike back to their planet? And there are other confusing questions about Pike and Commodore Mendez... best to not think too hard about the details and just enjoy ST's only two-parter.\",\n",
              "       \"A truly frightening film. Feels as if it were made in the early '90s by a straight person who wanted to show that gays are good, normal, mainstream-aspiring people. Retrograde to the point of being offensive, LTR suggests that monogamy and marriage are the preferred path to salvation for sad, lonely, sex-crazed gays. Wow! Who knew? The supporting characters are caricatures of gay stereotypes (the effeminate buffoon, the bitter, lonely queen, the fag hag, etc.) and the main characters are milquetoast, middle-class, middlebrow clones, of little interest.<br /><br />As far as the romantic & ideological struggles of the main couple are concerned, there's not much to say: we've seen it all before, and done much better.\",\n",
              "       'This story about three women is a very sensitive study about: Muriël (Charlotte Van Den Eynde) the youngest, Laura (Els Dottermans) who is about 37 and Martha (Frieda Pittors) the oldest who is the mother of Muriël. They live together in the same building. They have different expectations of life. The vital Laura wants a child. Muriël comes from a village and wants to change her life in Brussels. Martha dreams about her youth when she was a young girl. In fact nothing happens in this movie so you wait for something - for instances an accident - which could dramatize this story. As times goes on, you discover that the director Dorothée Van Den Berghe only wants to develop a psychological portrait of the three women and nothing more. This movie is disappointing because you expect the women to learn from their experiences which is not the case, so one is left with a feeling of emptiness.'],\n",
              "      dtype=object)"
            ]
          },
          "metadata": {},
          "execution_count": 15
        }
      ],
      "source": [
        "df.loc[0:5, 'Text'].values"
      ]
    },
    {
      "cell_type": "markdown",
      "metadata": {
        "id": "wWteX03KLFO1"
      },
      "source": [
        "- Expanding Contractions ---> `it's -> it is`, `I\\'ve -> I have`, `we've -> we have` \n",
        "- Removing Stop words: `the`, `it`, `a`, `and`\n",
        "- Removing Extra letters: e.g. `fuuuuun`\n",
        "- Removing Special characters: `\\`, `</>`\n",
        "- Strip HTML links\n",
        "- Removing accented characters: `Muriël-> Muriel`\n",
        "- Lemmatize text\n"
      ]
    },
    {
      "cell_type": "code",
      "execution_count": null,
      "metadata": {
        "colab": {
          "base_uri": "https://localhost:8080/"
        },
        "id": "uv2yz2D_VZjL",
        "outputId": "bb3eeb2b-bb67-4e26-d869-8f80a55cdb4e"
      },
      "outputs": [
        {
          "output_type": "stream",
          "name": "stdout",
          "text": [
            "Collecting contractions\n",
            "  Downloading contractions-0.0.58-py2.py3-none-any.whl (8.0 kB)\n",
            "Collecting textsearch>=0.0.21\n",
            "  Downloading textsearch-0.0.21-py2.py3-none-any.whl (7.5 kB)\n",
            "Collecting pyahocorasick\n",
            "  Downloading pyahocorasick-1.4.2.tar.gz (321 kB)\n",
            "\u001b[K     |████████████████████████████████| 321 kB 37.2 MB/s \n",
            "\u001b[?25hCollecting anyascii\n",
            "  Downloading anyascii-0.3.0-py3-none-any.whl (284 kB)\n",
            "\u001b[K     |████████████████████████████████| 284 kB 72.2 MB/s \n",
            "\u001b[?25hBuilding wheels for collected packages: pyahocorasick\n",
            "  Building wheel for pyahocorasick (setup.py) ... \u001b[?25l\u001b[?25hdone\n",
            "  Created wheel for pyahocorasick: filename=pyahocorasick-1.4.2-cp37-cp37m-linux_x86_64.whl size=85450 sha256=01c0ac8bea06d73ca4793659dd1531bcc97a3ef58212f957c1a89e0caa887f3e\n",
            "  Stored in directory: /root/.cache/pip/wheels/25/19/a6/8f363d9939162782bb8439d886469756271abc01f76fbd790f\n",
            "Successfully built pyahocorasick\n",
            "Installing collected packages: pyahocorasick, anyascii, textsearch, contractions\n",
            "Successfully installed anyascii-0.3.0 contractions-0.0.58 pyahocorasick-1.4.2 textsearch-0.0.21\n"
          ]
        }
      ],
      "source": [
        "# Source: https://github.com/Naveen1331/NLP---SENTIMENT-ANALYSIS-ON-IMDB-MOVIE-DATASET-/blob/main/Text%20Normalization%20Demo.ipynb\n",
        "# Import packages\n",
        "import spacy\n",
        "import nltk\n",
        "from nltk.tokenize.toktok import ToktokTokenizer\n",
        "import re\n",
        "from bs4 import BeautifulSoup\n",
        "!pip install contractions\n",
        "from contractions import contractions_dict\n",
        "import unicodedata"
      ]
    },
    {
      "cell_type": "code",
      "execution_count": null,
      "metadata": {
        "colab": {
          "base_uri": "https://localhost:8080/"
        },
        "id": "-0rZB4UVVu-H",
        "outputId": "48e043cf-70de-4489-c117-c25f06cab8c7"
      },
      "outputs": [
        {
          "output_type": "stream",
          "name": "stdout",
          "text": [
            "[nltk_data] Downloading package stopwords to /root/nltk_data...\n",
            "[nltk_data]   Unzipping corpora/stopwords.zip.\n"
          ]
        }
      ],
      "source": [
        "nlp = spacy.load('en', parse = False, tag = False, entity = False)\n",
        "tokenizer = ToktokTokenizer()\n",
        "nltk.download('stopwords')\n",
        "stopword_list = nltk.corpus.stopwords.words('english')\n",
        "stopword_list.remove('no') # keep 'no, not' as they might be useful in this \n",
        "stopword_list.remove('not')# context"
      ]
    },
    {
      "cell_type": "code",
      "execution_count": null,
      "metadata": {
        "id": "-jK5hoWTPL4s"
      },
      "outputs": [],
      "source": [
        "# Expand contractions\n",
        "#a = df.Text.apply(lambda x: \" \".join([contractions_dict[i] if i in contractions_dict else i for i in x.split()]))\n",
        "#a = a.apply(lambda x: \" \".join([contractions_dict[i.lower()] if i.lower() in contractions_dict else i for i in x.split()]))\n",
        "#a = a.apply(lambda x: \" \".join([contractions_dict[punc_remover(i)[0]] + punc_remover(i)[1] if punc_remover(i)[0] in contractions_dict else i for i in x.split()]))\n",
        "#a[0]\n",
        "\n",
        "def punc_remover(doc):\n",
        "  return re.sub(r\"(\\.|\\?|\\!|\\:|\\;)\", r\" \\1\", doc).split()\n",
        "\n",
        "def expand_contractions(doc):\n",
        "  a = \" \".join([contractions_dict[i] if i in contractions_dict else i for i in doc.split()])\n",
        "  a = \" \".join([contractions_dict[i.lower()] if i.lower() in contractions_dict else i for i in a.split()])\n",
        "  a = \" \".join([contractions_dict[punc_remover(i)[0]] + punc_remover(i)[1] if punc_remover(i)[0] in contractions_dict and len(punc_remover(i)) == 2 else i for i in a.split()])\n",
        "  return a\n",
        "\n",
        "#expand_contractions(df.Text[0])"
      ]
    },
    {
      "cell_type": "code",
      "execution_count": null,
      "metadata": {
        "id": "heES1BEdU5zX"
      },
      "outputs": [],
      "source": [
        "# Remove stop words\n",
        "# Source: https://github.com/Naveen1331/NLP---SENTIMENT-ANALYSIS-ON-IMDB-MOVIE-DATASET-/blob/main/Text%20Normalization%20Demo.ipynb\n",
        "def remove_stopwords(text, is_lower_case = False):\n",
        "  tokens = tokenizer.tokenize(text)\n",
        "  tokens = [token.strip() for token in tokens]\n",
        "  if is_lower_case:\n",
        "    filtered_tokens = [token for token in tokens if token not in stopword_list]\n",
        "  else:\n",
        "    filtered_tokens = [token for token in tokens if token.lower() not in stopword_list]\n",
        "  filtered_text = ' '.join(filtered_tokens)    \n",
        "  return filtered_text"
      ]
    },
    {
      "cell_type": "code",
      "execution_count": null,
      "metadata": {
        "id": "Nf-g_1FbXAOG"
      },
      "outputs": [],
      "source": [
        "# Remove extra letters\n",
        "def remove_extra_letters(text):\n",
        "  text = re.sub(r'(.)\\1{3,}', r'\\1\\1', text)\n",
        "  return text"
      ]
    },
    {
      "cell_type": "code",
      "execution_count": null,
      "metadata": {
        "id": "BzPQXJK9XrFT"
      },
      "outputs": [],
      "source": [
        "# Remove special characters\n",
        "# Source: https://github.com/Naveen1331/NLP---SENTIMENT-ANALYSIS-ON-IMDB-MOVIE-DATASET-/blob/main/Text%20Normalization%20Demo.ipynb\n",
        "def remove_special_characters(text):\n",
        "  text = re.sub('[^a-zA-z0-9\\s]', '', text)\n",
        "  return text"
      ]
    },
    {
      "cell_type": "code",
      "execution_count": null,
      "metadata": {
        "id": "3e6GczZiYRwp"
      },
      "outputs": [],
      "source": [
        "# Remove links\n",
        "# Source: https://github.com/Naveen1331/NLP---SENTIMENT-ANALYSIS-ON-IMDB-MOVIE-DATASET-/blob/main/Text%20Normalization%20Demo.ipynb\n",
        "def strip_html_tags(text):\n",
        "  soup = BeautifulSoup(text, \"html.parser\")\n",
        "  stripped_text = soup.get_text()\n",
        "  return stripped_text"
      ]
    },
    {
      "cell_type": "code",
      "execution_count": null,
      "metadata": {
        "id": "ri_hgOnQYYuU"
      },
      "outputs": [],
      "source": [
        "# Remove accented characters\n",
        "# Source: https://github.com/Naveen1331/NLP---SENTIMENT-ANALYSIS-ON-IMDB-MOVIE-DATASET-/blob/main/Text%20Normalization%20Demo.ipynb\n",
        "def remove_accented_chars(text):\n",
        "  text = unicodedata.normalize('NFKD', text).encode('ascii', 'ignore').decode('utf-8', 'ignore')\n",
        "  return text"
      ]
    },
    {
      "cell_type": "code",
      "execution_count": null,
      "metadata": {
        "id": "UQ1t_TxYYsVQ"
      },
      "outputs": [],
      "source": [
        "# Lemmatize text\n",
        "# Source: https://github.com/Naveen1331/NLP---SENTIMENT-ANALYSIS-ON-IMDB-MOVIE-DATASET-/blob/main/Text%20Normalization%20Demo.ipynb\n",
        "def lemmatize_text(text):\n",
        "  text = nlp(text)\n",
        "  text = ' '.join([word.lemma_ if word.lemma_ != '-PRON-' else word.text for word in text])\n",
        "  return text"
      ]
    },
    {
      "cell_type": "code",
      "execution_count": null,
      "metadata": {
        "id": "XcE6oo-qY1wX"
      },
      "outputs": [],
      "source": [
        "# Normalize text\n",
        "# Source: https://github.com/Naveen1331/NLP---SENTIMENT-ANALYSIS-ON-IMDB-MOVIE-DATASET-/blob/main/Text%20Normalization%20Demo.ipynb\n",
        "def normalize_corpus(corpus, \n",
        "                     html_stripping = True, \n",
        "                     contraction_expansion = True,\n",
        "                     accented_char_removal = True, \n",
        "                     text_lower_case = True, \n",
        "                     text_lemmatization = True, \n",
        "                     special_char_removal = True, \n",
        "                     stopword_removal = True):\n",
        "  normalized_corpus = []\n",
        "  # normalize each document in the corpus\n",
        "  for doc in corpus:\n",
        "    #print(doc)\n",
        "    # strip HTML\n",
        "    if html_stripping:\n",
        "      doc = strip_html_tags(doc)\n",
        "      #print(doc)\n",
        "      # remove accented characters\n",
        "      if accented_char_removal:\n",
        "        doc = remove_accented_chars(doc)\n",
        "        #print(doc)\n",
        "        # expand contractions    \n",
        "        if contraction_expansion:\n",
        "          doc = expand_contractions(doc)\n",
        "          #print(doc)\n",
        "          # lowercase the text    \n",
        "          if text_lower_case:\n",
        "            doc = doc.lower()\n",
        "            # remove extra newlines\n",
        "            doc = re.sub(r'[\\r|\\n|\\r\\n]+', ' ',doc)\n",
        "            # insert spaces between special characters to isolate them    \n",
        "            special_char_pattern = re.compile(r'([{.(-)!}])')\n",
        "            doc = special_char_pattern.sub(\" \\\\1 \", doc)\n",
        "            #print(doc)\n",
        "            # lemmatize text\n",
        "            if text_lemmatization:\n",
        "              doc = lemmatize_text(doc)\n",
        "              # remove special characters   \n",
        "              #print(doc) \n",
        "              if special_char_removal:\n",
        "                doc = remove_special_characters(doc)  \n",
        "                # remove extra whitespace\n",
        "                doc = re.sub(' +', ' ', doc)\n",
        "                #print(doc)\n",
        "                # remove stopwords\n",
        "                if stopword_removal:\n",
        "                  doc = remove_stopwords(doc, is_lower_case = text_lower_case)\n",
        "\n",
        "    normalized_corpus.append(doc)\n",
        "  return normalized_corpus"
      ]
    },
    {
      "cell_type": "code",
      "execution_count": null,
      "metadata": {
        "colab": {
          "base_uri": "https://localhost:8080/"
        },
        "id": "3Cs7mQibGpjN",
        "outputId": "6abbc7e6-8be9-4b5d-9397-b45cc3731d78"
      },
      "outputs": [
        {
          "output_type": "execute_result",
          "data": {
            "text/plain": [
              "['canadian director vincenzo natali take art house circuit storm intriguing astonishingly intelligent cube personal favourite sf film 90 frame basic conceit group stranger trap maze shape like giant cube shoot entirely one set take idea fascinating direction eagerly await natali follow although take five year mount another project delighted say worth wait cypher fascinating exploration one man place world completely logical chain event find situation beyond control not want reveal much plot one joy cypher different avenue take us refreshing day age see sf film one idea head cypher film morgan sullivan jeremy northam one bland people ever walk planet hire company digicorp send different part america record different seminar bewilderment unbelievably boring cover topic mundane shave cream cheese morgan wait one seminar run rita foster impeccably cast lucy liu definition ice maiden give brush something find irresistible not surprising consider dry marriage rita turn another one morgan seminar tell life not appear not say anything plot would cheapen impact rest film us well tortuous path much fun follow cube natali show quite talent encompass seemingly ordinary people take familiar basically see happen thrust unknown cypher follow similar pattern not carbon copy cube inspiration cypher film common conspiracy thriller paranoia story one great thing cypher way theme creep story without knowledge morgan realise false identity piece much large puzzle much shock us one thing distinguish cypher cube much polished cube confine minimalist setting shoestring budget cast unknown cypher also low budget natali economise much allow broaden horizon launch morgan amazing journey labyrinth identity natali direction exceptional deft hand rein amazing camera angle enormity digicorp building vast robust office block conjunction insignificant speck morgan stand outside colour appear bleed picture compliment tone film perfectly modern day film noir acting uniformly excellent throughout jeremy northam sympathetic figure loveless marriage question identity performance excellent modulated literally seem transform right eye clinical spineless wimp confident man anything preserve new identity david hewlett put welcome appearance make impact cube reside secret silo look like borrow man black scene one good exercise carefully calculate suspense paranoia suppose expert identify double agent fantastic piece writing brilliantly act hewlett look morgan draw complex mind game lucy liu scene stealer often cast film potential not utilise full effect cypher finally give character fit like glove rita aloof guard femme fatale liu inhabit relish perk every time appear always control reduce room silence power icy stare alone thing come gratifying end not conclude ambiguous note way cube morgan deserve happy ending put ringer like cheer final scene perfect final moment come ray sunshine gloomy 90 minute cypher succeed count engage shocking always entertaining everything total recall want not come refreshing antidote overwhelming inexplicable matrix fine follow natali commit fan man superb stuff',\n",
              " 'give film 10 not superbly consistent movie pure ability evoke emotion audience story one womans struggle odd old cliche film carry much warmth sincerity color purple also show different side african american experience show slave grant freedom many fall way hate white man abusive people find important point go portray white black violence win oscar trend also acting performance superb especially oprah new find respect well worth watch keep tissue handy',\n",
              " 'admit somewhat jade movie genre young child soften heart reluctant guardian see enough baby boom kolya boy mostly martha extent whale rider expect bore formula hold attention king mask grimness set small town china 1930 extreme poverty norm girl child consider worthless poor parent kill birth give whomever would take black market wang discover purchase grandson nickname doggie granddaughter initially cast even though show great promise street perform heir even reluctantly take back not upset kidnap film gritty show length young street smart girl go survive society two lead performance believable beguile societal context western society one would expect least hint resentment wang not achieve material success wang thoroughly accept station celebrated artist low societal status though doggie exhibit level precociousness cunne would suspect modern suburban child completely believable context kid constantly survival mode society treat poor girl like garbage learn previous seven owner physically mentally abuse fierce attachment wang make perfect sense peek small town life foreign country naturalness two lead actor surprising plot twist course heartwarme resolution contribute watchable film',\n",
              " 'long time menagerie favorite star trek episode though recent year eclipse city edge forever use prefer menagerie hard core star trek fascinating back story current trek storyline still think fairly ingenious way gene roddenberry incorporate original pilot two part episode though new part story largely excuse kirk us watch pilot idea spock court martialed clever one poke hole plot want instance give talosian mind control ability captain pike condition even necessary physically bring pike back planet confusing question pike commodore mendez best not think hard detail enjoy st two parter',\n",
              " 'truly frightening film feel make early 90 straight person want show gay good normal mainstream aspire people retrograde point offensive ltr suggest monogamy marriage preferred path salvation sad lonely sex craze gay wow know support character caricature gay stereotype effeminate buffoon bitter lonely queen fag hag etc main character milquetoast middle class middlebrow clone little interest far romantic ideological struggle main couple concern not much say see much better',\n",
              " 'story three woman sensitive study muriel charlotte van den eynde young laura els dottermans 37 martha frieda pittor old mother muriel live together building different expectation life vital laura want child muriel come village want change life brussels martha dream youth young girl fact nothing happen movie wait something instance accident could dramatize story time go discover director dorothee van den berghe want develop psychological portrait three woman nothing movie disappointing expect woman learn experience not case one leave feeling emptiness',\n",
              " 'mother weird low budget movie touch least two uncomfortable theme not usually explore cinema denial love mother son daughter lust passion third age character awful may disgusting old lady believe impossible feel kind sympathy sorrow confess not love son daughter cheat husband twice intellectual steal beloved man daughter not protect guy without moral not love feel horny try organize life loss husband bad possible way destroy daughter delusion paula daughter fragile loser accept life way brother bobby man lose saving wife insist shop terrible business indeed darren amoral addict jerk not like anybody even acting direction excellent actress actor outstanding performance direction precise like movie recognize recommend specific audience vote seven title brazil recomecar start',\n",
              " 'kubrick prove brilliantness suspense horror film base stephen king book title way jack torrance man forty marry one child past trouble alcoholism overlook hotel colorado suspend service winter extreme weather well pay job person take care facility five month torrance look become writer find perfect manager advise torrance loneliness place winter potentially dangerous tell caretaker past go crazy murder family even get son danny sort imaginary friend illuminate future shin know place not good not want go instal hotel thing start right within month jack begin act strange irritated depressed point know something go happen not know scary thing happen appearance two twin girl talk danny someone attack violently not alone place later jack start see people immediately feel good like family among famous psychotic caretaker delbert grady grady tell torrance must kill family intruder hotel obey order jack go objective many scary thing ever see happen ending spectacular viewer stay interested shock last minute',\n",
              " 'epsilon k alien visitor not expect no budget australian film no special effect speed film quick scene cut female alien come immediately able speak perfectly accent australian blip place place time time alter perception flow time match fast human elderly grandmother tell two granddaughter story wander man tell 40 year unnamed come planet naked completely disorient unable recognize star sky come meet man alone camping australian outback apparently bewilder mistake get angry tell earth earthling know consummate despoiler environment metaphor insulting thing imaginable rest universe breathe foul air nothing stick head sand like ostrich another amusing metaphor earthling frog entirely film dialogue perplex man try understand peculiar psychology viewpoint even call unintelligent quaint man begin realize maybe human irrational not think straight yet wait beam back home see human not entirely faulty thinking even fall love dialogue perspective spot interesting layer heavy handed environmental message low budget feel two main actor blip around various deserted scene evil despoil human planet never see environmental message offer no solution paint one two dire metaphor happen nature man something not logic also not hang together rest universe give earth yet one space woman catch earth mistake manage effect positive change conclusion movie would battalion alien deliberately send manage achieve pollution waste',\n",
              " 'opinion one barbara stanwyck good performance one handful actor could say single look entire page dialogue lucky enough see original uncensored movie extra 4 minute additional footage bad movie short lily young woman barely hold together work father illegal speakeasy link anything good friend chico play wonderfully theresa harris though chico african american white woman good friend black woman back 30 controversial subject matter movie lily not special bond not sexual 2 woman stick shove situation beyond control lily father die not know tell power get get want yes immoral entire point movie go ruin last minute last minute movie superb film worth watch lesson movie still valid today back sure 100 year woman awful lily order get want work man take note']"
            ]
          },
          "metadata": {},
          "execution_count": 26
        }
      ],
      "source": [
        "# Try the function\n",
        "normalize_corpus(df.Text.iloc[:10].to_list(),\n",
        "  html_stripping = True, \n",
        "  contraction_expansion = True,\n",
        "  accented_char_removal = True, \n",
        "  text_lower_case = True, \n",
        "  text_lemmatization = True, \n",
        "  special_char_removal = True, \n",
        "  stopword_removal = True)"
      ]
    },
    {
      "cell_type": "code",
      "execution_count": null,
      "metadata": {
        "colab": {
          "base_uri": "https://localhost:8080/"
        },
        "id": "9g_ftA5zdT8Q",
        "outputId": "23a69043-6f7c-445c-aa2b-5243875915d9"
      },
      "outputs": [
        {
          "output_type": "stream",
          "name": "stdout",
          "text": [
            "\n"
          ]
        }
      ],
      "source": [
        "# We're adding docstrings around this since it is taking a long time to execute\n",
        "# (~38min with free plan on Google Colab)\n",
        "\"\"\"# Normalize the reviews' text on the train set\n",
        "normalized_train = normalize_corpus(train.Text.to_list(),\n",
        "                                   html_stripping = True, \n",
        "                                   contraction_expansion = True,\n",
        "                                   accented_char_removal = True, \n",
        "                                   text_lower_case = True, \n",
        "                                   text_lemmatization = True, \n",
        "                                   special_char_removal = True, \n",
        "                                   stopword_removal = True)\n",
        "\n",
        "# Normalize the reviews' text on the validation set\n",
        "normalized_validation = normalize_corpus(validation.Text.to_list(),\n",
        "                                         html_stripping = True, \n",
        "                                         contraction_expansion = True,\n",
        "                                         accented_char_removal = True, \n",
        "                                         text_lower_case = True, \n",
        "                                         text_lemmatization = True, \n",
        "                                         special_char_removal = True, \n",
        "                                         stopword_removal = True)\n",
        "\n",
        "# Normalize the reviews' text on the test set\n",
        "normalized_test = normalize_corpus(test.Text.to_list(),\n",
        "                                   html_stripping = True, \n",
        "                                   contraction_expansion = True,\n",
        "                                   accented_char_removal = True, \n",
        "                                   text_lower_case = True, \n",
        "                                   text_lemmatization = True, \n",
        "                                   special_char_removal = True, \n",
        "                                   stopword_removal = True)\n",
        "pd.Series(normalized_test).to_csv('normalized_test.csv', index = False)\"\"\"\n",
        "print(\"\")"
      ]
    },
    {
      "cell_type": "code",
      "execution_count": null,
      "metadata": {
        "id": "tCZQ_aner-Yh"
      },
      "outputs": [],
      "source": [
        "# Converted normalized corpus to csv so it doesn't take a long time to process \n",
        "# Only needs to be called once\n",
        "#pd.Series(normalized_train).to_csv('normalized_train.csv', index = False)\n",
        "#pd.Series(normalized_validation).to_csv('normalized_validation.csv', index = False)\n",
        "#pd.Series(normalized_test).to_csv('normalized_test.csv', index = False)\n",
        "\n",
        "# ATTENTION: Make sure to upload the csv files found under Datasets folder to \n",
        "# the Google Colab session before running this code block, else it will return \n",
        "# an error.\n",
        "normalized_train = pd.read_csv('normalized_train.csv').iloc[:,0].to_list()\n",
        "normalized_validation = pd.read_csv('normalized_validation.csv').iloc[:,0].to_list()\n",
        "normalized_test = pd.read_csv('normalized_test.csv').iloc[:,0].to_list()"
      ]
    },
    {
      "cell_type": "markdown",
      "metadata": {
        "id": "8I09BX7bqCXm"
      },
      "source": [
        "## Methodology\n",
        "\n",
        "We shall use Bag of Words (BoW) as features and compare which perform best time-wise before we continue with the application of models."
      ]
    },
    {
      "cell_type": "code",
      "execution_count": null,
      "metadata": {
        "colab": {
          "base_uri": "https://localhost:8080/"
        },
        "id": "uqOJpjwyqY1f",
        "outputId": "d9a8c0d1-578c-49dd-faec-7d142b0080c3"
      },
      "outputs": [
        {
          "output_type": "stream",
          "name": "stdout",
          "text": [
            "Time for CountVectorizer: 12.99 s\n"
          ]
        }
      ],
      "source": [
        "from sklearn.feature_extraction.text import CountVectorizer\n",
        "import time\n",
        "\n",
        "# Use CountVectorizer\n",
        "# Source: \n",
        "# https://developers.google.com/machine-learning/guides/text-classification/step-3#feature_selection\n",
        "count_vect = CountVectorizer(max_features = 20000, # use the 20000 most frequent\n",
        "                                                   # words as features\n",
        "                             ngram_range = (1, 2), # unigrams + bigrams\n",
        "                             min_df = 3, # remove all the words that appear in\n",
        "                                         # less than 3 documents \n",
        "                             max_df = 0.6, # remove all the words that appear in\n",
        "                                           # more than 60% of the documents\n",
        "                             analyzer = 'word', # the feature should be made of \n",
        "                                                # word n-grams\n",
        "                             token_pattern = r'\\w{1,}'\n",
        "                             )\n",
        "tic = time.time()\n",
        "\n",
        "# Fit Count Vectorizer \n",
        "train_count_vect = count_vect.fit_transform(normalized_train)\n",
        "test_count_vect  = count_vect.transform(normalized_test)\n",
        "print(f\"Time for CountVectorizer: {time.time() - tic:.2f} s\")  "
      ]
    },
    {
      "cell_type": "code",
      "execution_count": null,
      "metadata": {
        "colab": {
          "base_uri": "https://localhost:8080/"
        },
        "id": "98DKO2pVy44U",
        "outputId": "7d13c868-3413-4c8a-a5fa-384b56c113b2"
      },
      "outputs": [
        {
          "output_type": "stream",
          "name": "stdout",
          "text": [
            "Time for TfidfVectorizer: 13.07 s\n"
          ]
        }
      ],
      "source": [
        "from sklearn.feature_extraction.text import TfidfVectorizer\n",
        "\n",
        "# Use TfidfVectorizer\n",
        "tfidf_vect = TfidfVectorizer(max_features = 20000, # use the 20000 most frequent\n",
        "                                                   # words as features\n",
        "                             ngram_range = (1, 2), # unigrams + bigrams\n",
        "                             min_df = 3, # remove all the words that appear in\n",
        "                                         # less than 3 documents \n",
        "                             max_df = 0.6, # remove all the words that appear in\n",
        "                                           # more than 60% of the documents \n",
        "                             analyzer = 'word', # the feature should be made of \n",
        "                                                # word n-grams\n",
        "                             token_pattern = r'\\w{1,}')\n",
        "tic = time.time()\n",
        "\n",
        "# Fit TfidfVectorizer\n",
        "train_tfidf_vect = tfidf_vect.fit_transform(normalized_train)\n",
        "test_tfidf_vect  = tfidf_vect.transform(normalized_test)\n",
        "print(f\"Time for TfidfVectorizer: {time.time() - tic:.2f} s\") "
      ]
    },
    {
      "cell_type": "markdown",
      "metadata": {
        "id": "E9W5XfMX0VFB"
      },
      "source": [
        "We can see that the `CountVectorizer` takes slightly less time to run than `TfidfVectorizer`."
      ]
    },
    {
      "cell_type": "markdown",
      "metadata": {
        "id": "W4YqcYUa23aA"
      },
      "source": [
        "## Model Selection\n",
        "\n",
        "The following models will be used\n",
        "\n",
        "- Logistic Regression with `CountVectorizer` and `TfidfVectorizer`\n",
        "- Naive Bayes' with `TfidfVectorizer` and `CountVectorizer`\n",
        "- SVM with `CountVectorizer` and `TfidfVectorizer`\n",
        "- $\\text{BERT}_{base}$ uncased\n",
        "- BiLSTM (on \"BILSTM with Keras\" Jupyter notebook)"
      ]
    },
    {
      "cell_type": "markdown",
      "metadata": {
        "id": "Bc2GjClR3PvG"
      },
      "source": [
        "### Logistic Regression with `CountVectorizer`"
      ]
    },
    {
      "cell_type": "code",
      "execution_count": null,
      "metadata": {
        "colab": {
          "base_uri": "https://localhost:8080/"
        },
        "id": "LZlMqyaE3SlP",
        "outputId": "5c605d67-8047-40f2-f011-cef441bf54d5"
      },
      "outputs": [
        {
          "output_type": "stream",
          "name": "stdout",
          "text": [
            "f1_score for C = 0.001: 0.854\n",
            "f1_score for C = 0.01: 0.882\n",
            "f1_score for C = 0.05: 0.886\n",
            "f1_score for C = 0.1: 0.884\n",
            "f1_score for C = 1: 0.871\n"
          ]
        }
      ],
      "source": [
        "from sklearn.linear_model import LogisticRegression\n",
        "from sklearn.metrics import f1_score, log_loss, classification_report\n",
        "\n",
        "# Testing for different c-values : Inverse of regularization strength; \n",
        "# must be a positive float. Like in support vector machines, smaller values \n",
        "# specify stronger regularization.\n",
        "for c in [0.001, 0.01, 0.05, 0.1, 1]:\n",
        "  LR = LogisticRegression(C = c, max_iter = 1000)\n",
        "  LR.fit(train_count_vect, train.Label.to_list())\n",
        "  F1_LR = f1_score(test.Label.to_list(), \n",
        "                   LR.predict(test_count_vect))\n",
        "  print(f\"f1_score for C = {c}: {F1_LR:.3f}\")"
      ]
    },
    {
      "cell_type": "markdown",
      "metadata": {
        "id": "FBHFxtQ48Vsa"
      },
      "source": [
        "We notice that the highest `f1-score` is obtained for `C = 0.05`. Let us also perform Grid Search to investigate the best parameters to use before performing Logistic Regression and log the time taken for fitting and predicting as well as, `logloss` and `f1-score`."
      ]
    },
    {
      "cell_type": "markdown",
      "metadata": {
        "id": "oOnKrXBuvXJE"
      },
      "source": [
        "### Grid Search CV for Logistic Regression\n"
      ]
    },
    {
      "cell_type": "code",
      "execution_count": null,
      "metadata": {
        "colab": {
          "base_uri": "https://localhost:8080/"
        },
        "id": "ikqGMI_lv2cK",
        "outputId": "7b445428-c85c-43ae-9650-3b37e20e0a28"
      },
      "outputs": [
        {
          "output_type": "stream",
          "name": "stderr",
          "text": [
            "/usr/local/lib/python3.7/dist-packages/joblib/externals/loky/process_executor.py:705: UserWarning: A worker stopped while some jobs were given to the executor. This can be caused by a too short worker timeout or by a memory leak.\n",
            "  \"timeout or by a memory leak.\", UserWarning\n"
          ]
        },
        {
          "output_type": "execute_result",
          "data": {
            "text/plain": [
              "GridSearchCV(cv=5,\n",
              "             estimator=Pipeline(steps=[('vectorize', CountVectorizer()),\n",
              "                                       ('tfidf', TfidfTransformer()),\n",
              "                                       ('LR', LogisticRegression())]),\n",
              "             n_jobs=-1,\n",
              "             param_grid={'LR__C': [1, 0.1], 'tfidf__use_idf': (True, False),\n",
              "                         'vectorize__max_df': (0.5, 1.0),\n",
              "                         'vectorize__ngram_range': ((1, 1), (1, 2))},\n",
              "             scoring='accuracy')"
            ]
          },
          "metadata": {},
          "execution_count": 96
        }
      ],
      "source": [
        "from sklearn.pipeline import Pipeline\n",
        "from sklearn.feature_extraction.text import TfidfTransformer\n",
        "from sklearn.model_selection import GridSearchCV\n",
        "from sklearn.metrics import make_scorer, f1_score\n",
        "\n",
        "# Specify the parameters\n",
        "# Double underscore indicate to which estimator a parameter belongs\n",
        "parameters = {'vectorize__max_df': (0.5, 1.0),\n",
        "              'vectorize__ngram_range': ((1, 1), (1, 2)), \n",
        "              'tfidf__use_idf': (True, False),\n",
        "              'LR__C':[1, 0.1], \n",
        "              #'berNB__alpha':[1, 0.1]\n",
        "              }\n",
        "\n",
        "# Create the pipeline\n",
        "pipe = Pipeline([('vectorize', CountVectorizer()),\n",
        "                 ('tfidf', TfidfTransformer()),\n",
        "                 ('LR', LogisticRegression()), \n",
        "                 #('berNB', BernoulliNB())\n",
        "                ])\n",
        "\n",
        "# Specify multiclass f1 score\n",
        "my_scorer = make_scorer(f1_score, greater_is_better = True, average = 'macro')\n",
        "\n",
        "# Specify the values to consider in the grid search\n",
        "# Takes approximately 11 min to execute\n",
        "grid_search = GridSearchCV(pipe, \n",
        "                           parameters, \n",
        "                           scoring = 'accuracy', \n",
        "                           cv = 5, \n",
        "                           n_jobs = -1)\n",
        "\n",
        "# Fit the grid search on the balanced data\n",
        "grid_search.fit(normalized_train, train['Label'].astype('int'))"
      ]
    },
    {
      "cell_type": "code",
      "execution_count": null,
      "metadata": {
        "colab": {
          "base_uri": "https://localhost:8080/"
        },
        "id": "plwPGJw3v81-",
        "outputId": "1b69b75e-eec9-4be5-e8a1-01c3ecb816f7"
      },
      "outputs": [
        {
          "output_type": "stream",
          "name": "stdout",
          "text": [
            "The best parameters from the grid search are: {'LR__C': 1, 'tfidf__use_idf': True, 'vectorize__max_df': 1.0, 'vectorize__ngram_range': (1, 1)} \n",
            "with best score of 0.885.\n",
            "Classification Report\n",
            "              precision    recall  f1-score   support\n",
            "\n",
            "    negative       0.88      0.88      0.88     12500\n",
            "    positive       0.88      0.88      0.88     12500\n",
            "\n",
            "    accuracy                           0.88     25000\n",
            "   macro avg       0.88      0.88      0.88     25000\n",
            "weighted avg       0.88      0.88      0.88     25000\n",
            "\n"
          ]
        }
      ],
      "source": [
        "print(f\"The best parameters from the grid search are: {grid_search.best_params_} \" + \n",
        "      f\"\\nwith best score of {grid_search.best_score_:.3f}.\")\n",
        "\n",
        "y_hat_opt = grid_search.predict(normalized_test)\n",
        "print(\"Classification Report\")\n",
        "print(classification_report(test[\"Label\"].astype('int'), \n",
        "                            y_hat_opt, \n",
        "                            target_names = ['negative', 'positive']))"
      ]
    },
    {
      "cell_type": "markdown",
      "metadata": {
        "id": "09sKv1vrwKED"
      },
      "source": [
        "### Logistic Regression with `Count Vectorizer` (after performing Grid Search)"
      ]
    },
    {
      "cell_type": "code",
      "execution_count": null,
      "metadata": {
        "colab": {
          "base_uri": "https://localhost:8080/"
        },
        "id": "a_v39dad80W3",
        "outputId": "fd1a017b-ee90-4289-81ed-ace67ff9b4a7"
      },
      "outputs": [
        {
          "name": "stdout",
          "output_type": "stream",
          "text": [
            "Training took... 7.58 s\n",
            "Predictions took... 0.02 s\n",
            "Logistic loss: 0.44\n",
            "F1-score: 0.87\n",
            "Classification Report\n",
            "              precision    recall  f1-score   support\n",
            "\n",
            "    negative       0.87      0.88      0.87     12500\n",
            "    positive       0.88      0.86      0.87     12500\n",
            "\n",
            "    accuracy                           0.87     25000\n",
            "   macro avg       0.87      0.87      0.87     25000\n",
            "weighted avg       0.87      0.87      0.87     25000\n",
            "\n"
          ]
        }
      ],
      "source": [
        "# Start logging time\n",
        "tic = time.time()\n",
        "# Fit Logistic regression\n",
        "LR = LogisticRegression(C = 1, max_iter = 2000)\n",
        "LR.fit(train_count_vect, train.Label.to_list())\n",
        "print(f\"Training took... {time.time() - tic:.2f} s\") \n",
        "\n",
        "# Start logging time\n",
        "tic = time.time()\n",
        "# Make predictions\n",
        "pred = LR.predict(test_count_vect)\n",
        "print(f\"Predictions took... {time.time() - tic:.2f} s\")  \n",
        "\n",
        "# Calculate logloss and f1-score\n",
        "Log_loss = log_loss(test.Label.to_list(), pred) * 0.1\n",
        "print(f\"Logistic loss: {Log_loss:.2f}\")\n",
        "F1_LR = f1_score(test.Label.to_list(), pred)\n",
        "print(f\"F1-score: {F1_LR:.2f}\")\n",
        "\n",
        "# Classification report for Logistic Regression\n",
        "print(\"Classification Report\")\n",
        "print(classification_report(test.Label.to_list(), \n",
        "                            pred, \n",
        "                            target_names = ['negative', 'positive']))"
      ]
    },
    {
      "cell_type": "markdown",
      "metadata": {
        "id": "WszaxtrCmW4p"
      },
      "source": [
        "### Logistic Regression with `TfidfVectorizer`"
      ]
    },
    {
      "cell_type": "code",
      "execution_count": null,
      "metadata": {
        "colab": {
          "base_uri": "https://localhost:8080/"
        },
        "id": "WqMcxXv4mej0",
        "outputId": "f77cb239-07d8-40f2-cef5-4ffd53691434"
      },
      "outputs": [
        {
          "name": "stdout",
          "output_type": "stream",
          "text": [
            "Training took... 0.98 s\n",
            "Predictions took... 0.01 s\n",
            "Logistic loss: 0.38\n",
            "F1-score: 0.89\n",
            "Classification Report\n",
            "              precision    recall  f1-score   support\n",
            "\n",
            "    negative       0.89      0.89      0.89     12500\n",
            "    positive       0.89      0.89      0.89     12500\n",
            "\n",
            "    accuracy                           0.89     25000\n",
            "   macro avg       0.89      0.89      0.89     25000\n",
            "weighted avg       0.89      0.89      0.89     25000\n",
            "\n"
          ]
        }
      ],
      "source": [
        "# Testing Logistic Regression with best parameters given from GridSearchCV\n",
        "\n",
        "from sklearn.linear_model import LogisticRegression\n",
        "\n",
        "# Start logging time\n",
        "tic = time.time()\n",
        "# Fit Logistic regression\n",
        "LR = LogisticRegression(C = 1, max_iter = 1000)\n",
        "LR.fit(train_tfidf_vect, train.Label.to_list())\n",
        "print(f\"Training took... {time.time() - tic:.2f} s\") \n",
        "\n",
        "# Start logging time\n",
        "tic = time.time()\n",
        "# Make predictions\n",
        "pred = LR.predict(test_tfidf_vect)\n",
        "print(f\"Predictions took... {time.time() - tic:.2f} s\")  \n",
        "\n",
        "# Calculate logloss and f1-score\n",
        "Log_loss = log_loss(test.Label.to_list(), pred) * 0.1\n",
        "print(f\"Logistic loss: {Log_loss:.2f}\")\n",
        "F1_LR = f1_score(test.Label.to_list(), pred)\n",
        "print(f\"F1-score: {F1_LR:.2f}\")\n",
        "\n",
        "# Classification report for Logistic Regression\n",
        "print(\"Classification Report\")\n",
        "print(classification_report(test.Label.to_list(), \n",
        "                            pred, \n",
        "                            target_names = ['negative', 'positive']))"
      ]
    },
    {
      "cell_type": "markdown",
      "metadata": {
        "id": "ErnQJsYj4WEW"
      },
      "source": [
        "Indeed, we can see there is an improvement in time of execution using the parameters suggested by Grid Search."
      ]
    },
    {
      "cell_type": "markdown",
      "metadata": {
        "id": "NbTAWypqI85t"
      },
      "source": [
        "Let us find the 20 most contributing words to positive review ranking."
      ]
    },
    {
      "cell_type": "code",
      "execution_count": null,
      "metadata": {
        "colab": {
          "base_uri": "https://localhost:8080/"
        },
        "id": "2dEC29cR-uGe",
        "outputId": "6923e574-e293-4a5e-cb2f-3601d63f4bf2"
      },
      "outputs": [
        {
          "name": "stdout",
          "output_type": "stream",
          "text": [
            "20 most important words for positive reviews:\n"
          ]
        },
        {
          "data": {
            "text/plain": [
              "[('great', 6.342272907885837),\n",
              " ('excellent', 5.271613010275886),\n",
              " ('perfect', 4.549220511438766),\n",
              " ('love', 4.443128009659041),\n",
              " ('enjoy', 4.158831779506522),\n",
              " ('good', 4.1138468741117835),\n",
              " ('wonderful', 4.049657140111142),\n",
              " ('favorite', 3.7617246471248547),\n",
              " ('amazing', 3.7395767478858835),\n",
              " ('fun', 3.449936054581138),\n",
              " ('today', 3.159625773252015),\n",
              " ('brilliant', 3.06392469511408),\n",
              " ('life', 2.937702222726273),\n",
              " ('beautiful', 2.851423205587785),\n",
              " ('710', 2.849991843600578),\n",
              " ('definitely', 2.8207004717513438),\n",
              " ('superb', 2.810526201950506),\n",
              " ('highly', 2.765220715204504),\n",
              " ('fantastic', 2.6358818643301234),\n",
              " ('enjoyable', 2.6221186898596462)]"
            ]
          },
          "execution_count": 124,
          "metadata": {},
          "output_type": "execute_result"
        }
      ],
      "source": [
        "# Store the coefficients in a dictionary for nicer print out\n",
        "feat2coef = {word: coefficient for word,\n",
        "                coefficient in zip(tfidf_vect.get_feature_names_out(), \n",
        "                                   LR.coef_[0])}\n",
        "\n",
        "print(\"20 most important words for positive reviews:\")   \n",
        "sorted(feat2coef.items(), key = lambda x: x[1], reverse = True)[:20]"
      ]
    },
    {
      "cell_type": "markdown",
      "metadata": {
        "id": "Dsu_JRHyJDYy"
      },
      "source": [
        "From the top 20 results, we can see that the model did a good job at classifying the most contributing words to positive review classification. Some results might be unintuitive in terms of interpretation, i.e. 710. A possible explanation is that this number corresponds to ratings, meaning that users have classified a certain movie with 7/10 stars, for instance.\n",
        "\n",
        "Let us do the same to see which were the top 20 most important words to negative review ranking."
      ]
    },
    {
      "cell_type": "code",
      "execution_count": null,
      "metadata": {
        "colab": {
          "base_uri": "https://localhost:8080/"
        },
        "id": "S_z-re5PJ90Q",
        "outputId": "b056af48-16fe-42c3-beb5-7e9dbff87848"
      },
      "outputs": [
        {
          "name": "stdout",
          "output_type": "stream",
          "text": [
            "20 most important words for negative reviews:\n"
          ]
        },
        {
          "data": {
            "text/plain": [
              "[('bad', -9.885211470959897),\n",
              " ('waste', -5.881481603007913),\n",
              " ('awful', -5.616357872127562),\n",
              " ('boring', -4.732212502123369),\n",
              " ('poor', -4.439706967634828),\n",
              " ('no', -4.3960832733292925),\n",
              " ('nothing', -4.2162340098539515),\n",
              " ('terrible', -4.15350268374261),\n",
              " ('fail', -3.961926648243185),\n",
              " ('dull', -3.741251478626966),\n",
              " ('stupid', -3.69526504970126),\n",
              " ('suppose', -3.6485488109455657),\n",
              " ('save', -3.6228983606369507),\n",
              " ('horrible', -3.5577024936110115),\n",
              " ('lack', -3.546555278010567),\n",
              " ('unfortunately', -3.4375163272668505),\n",
              " ('poorly', -3.4302670481556707),\n",
              " ('script', -3.2213799424219656),\n",
              " ('not even', -3.215080595995132),\n",
              " ('lame', -3.182138629728173)]"
            ]
          },
          "execution_count": 125,
          "metadata": {},
          "output_type": "execute_result"
        }
      ],
      "source": [
        "print(\"20 most important words for negative reviews:\")   \n",
        "sorted(feat2coef.items(), key = lambda x: x[1])[:20]"
      ]
    },
    {
      "cell_type": "markdown",
      "metadata": {
        "id": "UY5CsQpdKVOO"
      },
      "source": [
        "Indeed, the displayed results correspond to a negative sentiment. "
      ]
    },
    {
      "cell_type": "markdown",
      "metadata": {
        "id": "GJdSsE0uWeZn"
      },
      "source": [
        "### Naive Bayes' with `TfidfVectorizer`"
      ]
    },
    {
      "cell_type": "code",
      "execution_count": null,
      "metadata": {
        "colab": {
          "base_uri": "https://localhost:8080/"
        },
        "id": "TuDlpv_lWnf1",
        "outputId": "c8737c6b-e835-4f93-ea75-ecc77e23796a"
      },
      "outputs": [
        {
          "name": "stdout",
          "output_type": "stream",
          "text": [
            "Training took... 0.05 s\n",
            "Predictions took... 0.05 s\n",
            "Logistic loss: 0.47\n",
            "F1-score: 0.86\n",
            "Classification Report\n",
            "              precision    recall  f1-score   support\n",
            "\n",
            "    negative       0.86      0.87      0.87     12500\n",
            "    positive       0.87      0.86      0.86     12500\n",
            "\n",
            "    accuracy                           0.86     25000\n",
            "   macro avg       0.86      0.86      0.86     25000\n",
            "weighted avg       0.86      0.86      0.86     25000\n",
            "\n"
          ]
        }
      ],
      "source": [
        "from sklearn.naive_bayes import BernoulliNB\n",
        "\n",
        "# Start logging time\n",
        "tic = time.time()\n",
        "# Fit Naive Bayes' Classifier for binary/boolean features\n",
        "NB = BernoulliNB(alpha = 1) # default\n",
        "NB.fit(train_tfidf_vect, train.Label.to_list())\n",
        "print(f\"Training took... {time.time() - tic:.2f} s\") \n",
        "\n",
        "# Start logging time\n",
        "tic = time.time()\n",
        "# Make predictions\n",
        "pred = NB.predict(test_tfidf_vect)\n",
        "print(f\"Predictions took... {time.time() - tic:.2f} s\")\n",
        "\n",
        "# Calculate logloss and f1-score\n",
        "Log_loss = log_loss(test.Label.to_list(), pred) * 0.1\n",
        "print(f\"Logistic loss: {Log_loss:.2f}\")\n",
        "F1_NB = f1_score(test.Label.to_list(), pred)\n",
        "print(f\"F1-score: {F1_NB:.2f}\")\n",
        "\n",
        "# Classification report for Naive Bayes\n",
        "print(\"Classification Report\")\n",
        "print(classification_report(test.Label.to_list(), \n",
        "                            pred, \n",
        "                            target_names = ['negative', 'positive']))"
      ]
    },
    {
      "cell_type": "markdown",
      "metadata": {
        "id": "BOx3Lr0gL-AP"
      },
      "source": [
        "### Naive Bayes with `CountVectorizer`"
      ]
    },
    {
      "cell_type": "code",
      "execution_count": null,
      "metadata": {
        "colab": {
          "base_uri": "https://localhost:8080/"
        },
        "id": "biNJD-6bMGO3",
        "outputId": "c138bc4d-85d9-496b-c255-1f30aa6ac9f4"
      },
      "outputs": [
        {
          "name": "stdout",
          "output_type": "stream",
          "text": [
            "Training took... 0.04 s\n",
            "Predictions took... 0.04 s\n",
            "Logistic loss: 0.47\n",
            "F1-score: 0.86\n",
            "Classification Report\n",
            "              precision    recall  f1-score   support\n",
            "\n",
            "    negative       0.86      0.87      0.87     12500\n",
            "    positive       0.87      0.86      0.86     12500\n",
            "\n",
            "    accuracy                           0.86     25000\n",
            "   macro avg       0.86      0.86      0.86     25000\n",
            "weighted avg       0.86      0.86      0.86     25000\n",
            "\n"
          ]
        }
      ],
      "source": [
        "from sklearn.naive_bayes import BernoulliNB\n",
        "\n",
        "# Start logging time\n",
        "tic = time.time()\n",
        "# Fit Naive Bayes' Classifier for binary/boolean features\n",
        "NB = BernoulliNB(alpha = 1) # default\n",
        "NB.fit(train_count_vect, train.Label.to_list())\n",
        "print(f\"Training took... {time.time() - tic:.2f} s\") \n",
        "\n",
        "# Start logging time\n",
        "tic = time.time()\n",
        "# Make predictions\n",
        "pred = NB.predict(test_count_vect)\n",
        "print(f\"Predictions took... {time.time() - tic:.2f} s\")\n",
        "\n",
        "# Calculate logloss and f1-score\n",
        "Log_loss = log_loss(test.Label.to_list(), pred) * 0.1\n",
        "print(f\"Logistic loss: {Log_loss:.2f}\")\n",
        "F1_NB = f1_score(test.Label.to_list(), pred)\n",
        "print(f\"F1-score: {F1_NB:.2f}\")\n",
        "\n",
        "# Classification report for Naive Bayes\n",
        "print(\"Classification Report\")\n",
        "print(classification_report(test.Label.to_list(), \n",
        "                            pred, \n",
        "                            target_names = ['negative', 'positive']))"
      ]
    },
    {
      "cell_type": "markdown",
      "metadata": {
        "id": "M1xGP-x6LSV7"
      },
      "source": [
        "### SVM with `CountVectorizer`"
      ]
    },
    {
      "cell_type": "code",
      "execution_count": null,
      "metadata": {
        "colab": {
          "base_uri": "https://localhost:8080/"
        },
        "id": "1_yehzCpLZRd",
        "outputId": "63831f7a-a985-4bab-8b86-0c44cfac6002"
      },
      "outputs": [
        {
          "output_type": "stream",
          "name": "stdout",
          "text": [
            "Training took... 146.13 s\n",
            "Predictions took... 28.78 s\n",
            "Logistic loss: 0.66\n",
            "F1-score: 0.81\n",
            "Classification Report\n",
            "              precision    recall  f1-score   support\n",
            "\n",
            "    negative       0.82      0.80      0.81     12500\n",
            "    positive       0.80      0.82      0.81     12500\n",
            "\n",
            "    accuracy                           0.81     25000\n",
            "   macro avg       0.81      0.81      0.81     25000\n",
            "weighted avg       0.81      0.81      0.81     25000\n",
            "\n"
          ]
        }
      ],
      "source": [
        "from sklearn.decomposition import TruncatedSVD\n",
        "from sklearn import preprocessing\n",
        "from sklearn.svm import SVC\n",
        "\n",
        "# Cell takes approximately 2.5min to execute in Google Colab Pro\n",
        "\n",
        "# Use SVD to reduce dimensionality \n",
        "# We found that 100-200 components usually suffice\n",
        "SVD = TruncatedSVD(n_components = 100)\n",
        "SVD_train = SVD.fit_transform(train_count_vect)\n",
        "SVD_test = SVD.transform(test_count_vect)\n",
        "\n",
        "# Scale the data \n",
        "sdScaler = preprocessing.StandardScaler()\n",
        "SVD_train_scaled = sdScaler.fit_transform(SVD_train)\n",
        "SVD_test_scaled = sdScaler.transform(SVD_test)\n",
        "\n",
        "# Start logging time\n",
        "tic = time.time()\n",
        "# Fit SVM\n",
        "SVM = SVC(C = 1.0, probability = True)\n",
        "SVM.fit(SVD_train_scaled, train.Label.to_list())\n",
        "print(f\"Training took... {time.time() - tic:.2f} s\") \n",
        "\n",
        "# Start logging time\n",
        "tic = time.time()\n",
        "# Make predictions\n",
        "pred = SVM.predict(SVD_test_scaled)\n",
        "pred = np.where(pred == -1, 0, pred)\n",
        "print(f\"Predictions took... {time.time() - tic:.2f} s\") \n",
        "\n",
        "# Calculate logloss and f1-score\n",
        "Log_loss = log_loss(test.Label.to_list(), pred) * 0.1\n",
        "print(f\"Logistic loss: {Log_loss:.2f}\")\n",
        "F1_SVM = f1_score(test.Label.to_list(), pred)\n",
        "print(f\"F1-score: {F1_SVM:.2f}\")\n",
        "\n",
        "# Classification report for SVM\n",
        "print(\"Classification Report\")\n",
        "print(classification_report(test.Label.to_list(), \n",
        "                            pred, \n",
        "                            target_names = ['negative', 'positive']))"
      ]
    },
    {
      "cell_type": "markdown",
      "metadata": {
        "id": "KMdocGv4YfOP"
      },
      "source": [
        "### SVM with `TfidfVectorizer`"
      ]
    },
    {
      "cell_type": "code",
      "execution_count": null,
      "metadata": {
        "colab": {
          "base_uri": "https://localhost:8080/"
        },
        "id": "P4CQogAqL86q",
        "outputId": "de3b6255-7292-4114-cf60-1774d854498e"
      },
      "outputs": [
        {
          "output_type": "stream",
          "name": "stdout",
          "text": [
            "Training took... 124.00 s\n",
            "Predictions took... 23.94 s\n",
            "Logistic loss: 0.49\n",
            "F1-score: 0.86\n",
            "Classification Report\n",
            "              precision    recall  f1-score   support\n",
            "\n",
            "    negative       0.86      0.86      0.86     12500\n",
            "    positive       0.86      0.86      0.86     12500\n",
            "\n",
            "    accuracy                           0.86     25000\n",
            "   macro avg       0.86      0.86      0.86     25000\n",
            "weighted avg       0.86      0.86      0.86     25000\n",
            "\n"
          ]
        }
      ],
      "source": [
        "from sklearn.decomposition import TruncatedSVD\n",
        "from sklearn import preprocessing\n",
        "from sklearn.svm import SVC\n",
        "\n",
        "# Cell takes approximately 2min to execute in Google Colab Pro\n",
        "\n",
        "# Use SVD \n",
        "# We found that 100-200 components usually suffice\n",
        "SVD = TruncatedSVD(n_components = 100)\n",
        "SVD_train = SVD.fit_transform(train_tfidf_vect)\n",
        "SVD_test = SVD.transform(test_tfidf_vect)\n",
        "\n",
        "# Scale the data \n",
        "sdScaler = preprocessing.StandardScaler()\n",
        "SVD_train_scaled = sdScaler.fit_transform(SVD_train)\n",
        "SVD_test_scaled = sdScaler.transform(SVD_test)\n",
        "\n",
        "# Start logging time\n",
        "tic = time.time()\n",
        "# Fit SVM\n",
        "SVM = SVC(C = 1.0, probability = True)\n",
        "SVM.fit(SVD_train_scaled, train.Label.to_list())\n",
        "print(f\"Training took... {time.time() - tic:.2f} s\") \n",
        "\n",
        "# Start logging time\n",
        "tic = time.time()\n",
        "# Make predictions\n",
        "pred = SVM.predict(SVD_test_scaled)\n",
        "pred = np.where(pred == -1, 0, pred)\n",
        "print(f\"Predictions took... {time.time() - tic:.2f} s\") \n",
        "\n",
        "# Calculate logloss and f1-score\n",
        "Log_loss = log_loss(test.Label.to_list(), pred) * 0.1\n",
        "print(f\"Logistic loss: {Log_loss:.2f}\")\n",
        "F1_SVM = f1_score(test.Label.to_list(), pred)\n",
        "print(f\"F1-score: {F1_SVM:.2f}\")\n",
        "\n",
        "# Classification report for SVM\n",
        "print(\"Classification Report\")\n",
        "print(classification_report(test.Label.to_list(), \n",
        "                            pred, \n",
        "                            target_names = ['negative', 'positive']))"
      ]
    },
    {
      "cell_type": "markdown",
      "metadata": {
        "id": "TnDMcjpVgtWJ"
      },
      "source": [
        "## $\\text{BERT}_{base}$ uncased"
      ]
    },
    {
      "cell_type": "code",
      "execution_count": null,
      "metadata": {
        "colab": {
          "base_uri": "https://localhost:8080/"
        },
        "id": "iNZsNebchJKL",
        "outputId": "a04cbb05-854a-42a9-b67c-1e0471425955"
      },
      "outputs": [
        {
          "name": "stdout",
          "output_type": "stream",
          "text": [
            "Collecting transformers\n",
            "  Downloading transformers-4.15.0-py3-none-any.whl (3.4 MB)\n",
            "\u001b[K     |████████████████████████████████| 3.4 MB 8.1 MB/s \n",
            "\u001b[?25hCollecting sacremoses\n",
            "  Downloading sacremoses-0.0.46-py3-none-any.whl (895 kB)\n",
            "\u001b[K     |████████████████████████████████| 895 kB 52.9 MB/s \n",
            "\u001b[?25hRequirement already satisfied: packaging>=20.0 in /usr/local/lib/python3.7/dist-packages (from transformers) (21.3)\n",
            "Requirement already satisfied: importlib-metadata in /usr/local/lib/python3.7/dist-packages (from transformers) (4.8.2)\n",
            "Requirement already satisfied: tqdm>=4.27 in /usr/local/lib/python3.7/dist-packages (from transformers) (4.62.3)\n",
            "Collecting tokenizers<0.11,>=0.10.1\n",
            "  Downloading tokenizers-0.10.3-cp37-cp37m-manylinux_2_5_x86_64.manylinux1_x86_64.manylinux_2_12_x86_64.manylinux2010_x86_64.whl (3.3 MB)\n",
            "\u001b[K     |████████████████████████████████| 3.3 MB 45.6 MB/s \n",
            "\u001b[?25hRequirement already satisfied: numpy>=1.17 in /usr/local/lib/python3.7/dist-packages (from transformers) (1.19.5)\n",
            "Requirement already satisfied: filelock in /usr/local/lib/python3.7/dist-packages (from transformers) (3.4.0)\n",
            "Collecting huggingface-hub<1.0,>=0.1.0\n",
            "  Downloading huggingface_hub-0.2.1-py3-none-any.whl (61 kB)\n",
            "\u001b[K     |████████████████████████████████| 61 kB 509 kB/s \n",
            "\u001b[?25hRequirement already satisfied: requests in /usr/local/lib/python3.7/dist-packages (from transformers) (2.23.0)\n",
            "Collecting pyyaml>=5.1\n",
            "  Downloading PyYAML-6.0-cp37-cp37m-manylinux_2_5_x86_64.manylinux1_x86_64.manylinux_2_12_x86_64.manylinux2010_x86_64.whl (596 kB)\n",
            "\u001b[K     |████████████████████████████████| 596 kB 63.4 MB/s \n",
            "\u001b[?25hRequirement already satisfied: regex!=2019.12.17 in /usr/local/lib/python3.7/dist-packages (from transformers) (2019.12.20)\n",
            "Requirement already satisfied: typing-extensions>=3.7.4.3 in /usr/local/lib/python3.7/dist-packages (from huggingface-hub<1.0,>=0.1.0->transformers) (3.10.0.2)\n",
            "Requirement already satisfied: pyparsing!=3.0.5,>=2.0.2 in /usr/local/lib/python3.7/dist-packages (from packaging>=20.0->transformers) (3.0.6)\n",
            "Requirement already satisfied: zipp>=0.5 in /usr/local/lib/python3.7/dist-packages (from importlib-metadata->transformers) (3.6.0)\n",
            "Requirement already satisfied: idna<3,>=2.5 in /usr/local/lib/python3.7/dist-packages (from requests->transformers) (2.10)\n",
            "Requirement already satisfied: urllib3!=1.25.0,!=1.25.1,<1.26,>=1.21.1 in /usr/local/lib/python3.7/dist-packages (from requests->transformers) (1.24.3)\n",
            "Requirement already satisfied: chardet<4,>=3.0.2 in /usr/local/lib/python3.7/dist-packages (from requests->transformers) (3.0.4)\n",
            "Requirement already satisfied: certifi>=2017.4.17 in /usr/local/lib/python3.7/dist-packages (from requests->transformers) (2021.10.8)\n",
            "Requirement already satisfied: joblib in /usr/local/lib/python3.7/dist-packages (from sacremoses->transformers) (1.1.0)\n",
            "Requirement already satisfied: click in /usr/local/lib/python3.7/dist-packages (from sacremoses->transformers) (7.1.2)\n",
            "Requirement already satisfied: six in /usr/local/lib/python3.7/dist-packages (from sacremoses->transformers) (1.15.0)\n",
            "Installing collected packages: pyyaml, tokenizers, sacremoses, huggingface-hub, transformers\n",
            "  Attempting uninstall: pyyaml\n",
            "    Found existing installation: PyYAML 3.13\n",
            "    Uninstalling PyYAML-3.13:\n",
            "      Successfully uninstalled PyYAML-3.13\n",
            "Successfully installed huggingface-hub-0.2.1 pyyaml-6.0 sacremoses-0.0.46 tokenizers-0.10.3 transformers-4.15.0\n"
          ]
        }
      ],
      "source": [
        "# Install the necessary packages\n",
        "!pip install transformers"
      ]
    },
    {
      "cell_type": "markdown",
      "metadata": {
        "id": "6yHS4nRGhTaK"
      },
      "source": [
        "After the installation is completed, we shall load the pre-trained BERT Tokenizer and Sequence Classifier as well as `InputExample` and `InputFeatures`. Then we will build our model with the Sequence Classifier and the tokenizer with BERT's tokenizer."
      ]
    },
    {
      "cell_type": "code",
      "execution_count": null,
      "metadata": {
        "colab": {
          "base_uri": "https://localhost:8080/"
        },
        "id": "Av1Ms_yAiHcM",
        "outputId": "19b46fdf-65a6-411c-ebe3-45a2416cae62"
      },
      "outputs": [
        {
          "output_type": "stream",
          "name": "stderr",
          "text": [
            "All model checkpoint layers were used when initializing TFBertForSequenceClassification.\n",
            "\n",
            "Some layers of TFBertForSequenceClassification were not initialized from the model checkpoint at bert-base-uncased and are newly initialized: ['classifier']\n",
            "You should probably TRAIN this model on a down-stream task to be able to use it for predictions and inference.\n"
          ]
        },
        {
          "output_type": "stream",
          "name": "stdout",
          "text": [
            "Model: \"tf_bert_for_sequence_classification_1\"\n",
            "_________________________________________________________________\n",
            " Layer (type)                Output Shape              Param #   \n",
            "=================================================================\n",
            " bert (TFBertMainLayer)      multiple                  109482240 \n",
            "                                                                 \n",
            " dropout_75 (Dropout)        multiple                  0         \n",
            "                                                                 \n",
            " classifier (Dense)          multiple                  1538      \n",
            "                                                                 \n",
            "=================================================================\n",
            "Total params: 109,483,778\n",
            "Trainable params: 109,483,778\n",
            "Non-trainable params: 0\n",
            "_________________________________________________________________\n"
          ]
        }
      ],
      "source": [
        "from transformers import BertTokenizer, TFBertForSequenceClassification\n",
        "from transformers import InputExample, InputFeatures\n",
        "\n",
        "# Inspired by: https://towardsdatascience.com/sentiment-analysis-in-10-minutes-with-bert-and-hugging-face-294e8a04b671\n",
        "\n",
        "# Load BERT uncased model + tokenizer\n",
        "model = TFBertForSequenceClassification.from_pretrained(\"bert-base-uncased\",\n",
        "                                                        num_labels = 2)\n",
        "tokenizer = BertTokenizer.from_pretrained(\"bert-base-uncased\")\n",
        "\n",
        "# See the summary\n",
        "model.summary()"
      ]
    },
    {
      "cell_type": "markdown",
      "metadata": {
        "id": "IXTxiTJxynnm"
      },
      "source": [
        "👉 After quick inspection, we can see that we have a simple model architecture that includes the main BERT model, a Dropout layer to prevent overfitting and a Dense layer for the classification task. \n",
        "\n",
        "Now we will create the main Input Sequences from the IMDb data set.\n",
        "\n",
        "We already have the train and test data sets as pandas dataframe objects so we will create two helper functions.\n",
        "\n",
        "- `convert_data_to_examples`: This function takes the train and test datasets and converts each row into an `InputExample` object.\n",
        "\n",
        "- `convert_examples_to_tf_dataset`: This function performs tokenization of the `InputExample` objects and outputs the required input format with the tokenized objects into an input dataset that we can be fed to the model."
      ]
    },
    {
      "cell_type": "code",
      "execution_count": null,
      "metadata": {
        "id": "_UhPeC9q2GLZ"
      },
      "outputs": [],
      "source": [
        "# Inspired by: https://towardsdatascience.com/sentiment-analysis-in-10-minutes-with-bert-and-hugging-face-294e8a04b671\n",
        "def convert_data_to_examples(train, validation, Text, Label):\n",
        "  train_InputExamples = train.apply(lambda x: InputExample(guid = None, # Globally unique ID for bookkeeping, unused in this case\n",
        "                                                           text_a = x[Text], # the text we want to classify, \n",
        "                                                                             # which in this case, is the Request \n",
        "                                                                             # field in our dataframe\n",
        "                                                           text_b = None, # used if we're training a model to understand \n",
        "                                                                          # the relationship between sentences\n",
        "                                                           label = x[Label]), \n",
        "                                                           axis = 1)\n",
        "\n",
        "  validation_InputExamples = validation.apply(lambda x: InputExample(guid = None, # Globally unique ID for bookkeeping, unused in this case\n",
        "                                                                     text_a = x[Text], \n",
        "                                                                     text_b = None,\n",
        "                                                                     label = x[Label]), \n",
        "                                                                     axis = 1)\n",
        "  \n",
        "  return train_InputExamples, validation_InputExamples\n",
        "\n",
        "train_InputExamples, validation_InputExamples = convert_data_to_examples(train, \n",
        "                                                                         validation, \n",
        "                                                                         'Text', \n",
        "                                                                         'Label')\n",
        "\n",
        "# Inspired by: https://towardsdatascience.com/sentiment-analysis-in-10-minutes-with-bert-and-hugging-face-294e8a04b671  \n",
        "def convert_examples_to_tf_dataset(examples, tokenizer, max_length = 128):\n",
        "  features = [] # will hold InputFeatures to be converted later\n",
        "  for e in examples:\n",
        "    input_dict = tokenizer.encode_plus(e.text_a,\n",
        "                                       add_special_tokens = True,\n",
        "                                       max_length = max_length, # truncates if len(s) > max_length\n",
        "                                       return_token_type_ids = True,\n",
        "                                       return_attention_mask = True,\n",
        "                                       pad_to_max_length = True, # pads to the right by default \n",
        "                                       truncation = True)\n",
        "    input_ids, token_type_ids, attention_mask = (input_dict[\"input_ids\"],\n",
        "                                                 input_dict[\"token_type_ids\"], \n",
        "                                                 input_dict['attention_mask'])\n",
        "    features.append(InputFeatures(input_ids = input_ids, # converts each sentence into a set of token ids\n",
        "                                  attention_mask = attention_mask, # Since we are padding all the sequences \n",
        "                                                                   # to 128(max sequence length), it is important that \n",
        "                                                                   # we create some sort of mask to make sure those paddings \n",
        "                                                                   # do not interfere with the actual text tokens. \n",
        "                                                                   # Therefore we need a generate input mask blocking the paddings. \n",
        "                                                                   # The mask has 1 for real tokens and 0 for padding tokens. \n",
        "                                                                   # Only real tokens are attended to.\n",
        "                                  token_type_ids = token_type_ids, # Indices of input sequence tokens in the vocabulary (since\n",
        "                                                                   # there is only one sequence, the token_type_ids is essentially \n",
        "                                                                   # just a vector of 0s\n",
        "                                                                   # Sources: \n",
        "                                                                   # https://swatimeena989.medium.com/bert-text-classification-using-keras-903671e0207d\n",
        "                                                                   # https://huggingface.co/docs/transformers/model_doc/bert#transformers.TFBertForSequenceClassification\n",
        "                                  label = e.label))\n",
        "\n",
        "  def gen():\n",
        "    for f in features:\n",
        "      yield (\n",
        "          {\n",
        "                 \"input_ids\": f.input_ids,\n",
        "                 \"attention_mask\": f.attention_mask,\n",
        "                 \"token_type_ids\": f.token_type_ids,\n",
        "          },\n",
        "          f.label,\n",
        "     )\n",
        "\n",
        "  return tf.data.Dataset.from_generator(gen, \n",
        "                                        ({\"input_ids\": tf.int32, \n",
        "                                          \"attention_mask\": tf.int32, \n",
        "                                          \"token_type_ids\": tf.int32}, \n",
        "                                         tf.int64),\n",
        "        (\n",
        "            {\n",
        "                \"input_ids\": tf.TensorShape([None]),\n",
        "                \"attention_mask\": tf.TensorShape([None]),\n",
        "                \"token_type_ids\": tf.TensorShape([None]),\n",
        "            },\n",
        "            tf.TensorShape([]),\n",
        "        ),\n",
        "    )\n",
        "\n",
        "Text = 'Text'\n",
        "Label = 'Label'"
      ]
    },
    {
      "cell_type": "code",
      "execution_count": null,
      "metadata": {
        "id": "iE7DqFcT4t0y"
      },
      "outputs": [],
      "source": [
        "# Call the functions (takes approximately 2.5 min to execute)\n",
        "# Inspired by: https://towardsdatascience.com/sentiment-analysis-in-10-minutes-with-bert-and-hugging-face-294e8a04b671\n",
        "train_InputExamples, validation_InputExamples = convert_data_to_examples(train, \n",
        "                                                                         validation, \n",
        "                                                                         Text, \n",
        "                                                                         Label)\n",
        "\n",
        "train_data = convert_examples_to_tf_dataset(list(train_InputExamples), tokenizer)\n",
        "train_data = train_data.shuffle(1000).batch(32).repeat(5)\n",
        "\n",
        "validation_data = convert_examples_to_tf_dataset(list(validation_InputExamples), \n",
        "                                                 tokenizer)\n",
        "validation_data = validation_data.batch(32)"
      ]
    },
    {
      "cell_type": "markdown",
      "metadata": {
        "id": "iBi7PZSd5sid"
      },
      "source": [
        "Now we are ready to feed our data set to the BERT model. We will use `'Adam'` as our optimizer, `'SparseCategoricalCrossentropy'` as our loss function, and `'SparseCategoricalAccuracy'` as our accuracy metric. \n",
        "\n",
        "Sources:\n",
        "\n",
        "👉 https://developers.google.com/machine-learning/guides/text-classification/step-4\n",
        "\n",
        "👉 https://www.tensorflow.org/api_docs/python/tf/keras/losses/SparseCategoricalCrossentropy"
      ]
    },
    {
      "cell_type": "code",
      "execution_count": null,
      "metadata": {
        "colab": {
          "base_uri": "https://localhost:8080/"
        },
        "id": "ZZ731l7c6D4U",
        "outputId": "f1b31b92-d4eb-4682-b5da-428ffb84db8b"
      },
      "outputs": [
        {
          "output_type": "stream",
          "name": "stdout",
          "text": [
            "Epoch 1/2\n",
            "1000/1000 [==============================] - 542s 516ms/step - loss: 0.2975 - accuracy: 0.8707 - val_loss: 0.3418 - val_accuracy: 0.8728\n",
            "Epoch 2/2\n",
            "1000/1000 [==============================] - 513s 513ms/step - loss: 0.1102 - accuracy: 0.9591 - val_loss: 0.4470 - val_accuracy: 0.8748\n"
          ]
        }
      ],
      "source": [
        "# Model takes 1h to be fitted without Colab Pro (20' with Pro mode) \n",
        "BERT = model.compile(optimizer = tf.keras.optimizers.Adam(learning_rate = 3e-5,\n",
        "                                                          epsilon = 1e-08, \n",
        "                                                          clipnorm = 1.0), \n",
        "                     # from_logits: Whether y_pred is expected to be a logits \n",
        "                     # tensor\n",
        "                     loss = tf.keras.losses.SparseCategoricalCrossentropy(from_logits = True), \n",
        "                     metrics = [tf.keras.metrics.SparseCategoricalAccuracy('accuracy')])\n",
        "\n",
        "history = model.fit(train_data, \n",
        "                    epochs = 2, \n",
        "                    validation_data = validation_data, \n",
        "                    steps_per_epoch = 1000)"
      ]
    },
    {
      "cell_type": "code",
      "execution_count": null,
      "metadata": {
        "colab": {
          "base_uri": "https://localhost:8080/",
          "height": 65
        },
        "id": "3_soZScmT4Ma",
        "outputId": "6fa75dae-0b8f-4c54-d07b-7c9fdab8e68b"
      },
      "outputs": [
        {
          "output_type": "execute_result",
          "data": {
            "image/png": "[encoded data removed]",
            "text/plain": [
              "<IPython.core.display.Image object>"
            ]
          },
          "metadata": {},
          "execution_count": 99
        }
      ],
      "source": [
        "tf.keras.utils.plot_model(model = model, show_shapes = True, dpi = 76, expand_nested = True)"
      ]
    },
    {
      "cell_type": "code",
      "execution_count": null,
      "metadata": {
        "colab": {
          "base_uri": "https://localhost:8080/",
          "height": 513
        },
        "id": "wA2Lg1fOUgY4",
        "outputId": "ef2224f8-2049-49ae-ab08-4c67219fd5a7"
      },
      "outputs": [
        {
          "output_type": "display_data",
          "data": {
            "image/png": "[encoded data removed]",
            "text/plain": [
              "<Figure size 720x576 with 1 Axes>"
            ]
          },
          "metadata": {
            "needs_background": "light"
          }
        }
      ],
      "source": [
        "# Get metrics \n",
        "history_dict = history.history\n",
        "acc = history_dict['accuracy']\n",
        "val_acc = history_dict['val_accuracy']\n",
        "loss = history_dict['loss']\n",
        "val_loss = history_dict['val_loss']\n",
        "epochs = range(1, len(acc) + 1)\n",
        "\n",
        "# Plot training + validation accuracy\n",
        "plt.plot(epochs, acc, '-r', label = 'Training accuracy')\n",
        "plt.plot(epochs, val_acc, '-b', label = 'Validation accuracy')\n",
        "plt.title('Training & validation accuracy')\n",
        "plt.xlabel('Epochs')\n",
        "plt.ylabel('Accuracy')\n",
        "plt.legend(loc = 'best')\n",
        "plt.show()"
      ]
    },
    {
      "cell_type": "code",
      "execution_count": null,
      "metadata": {
        "colab": {
          "base_uri": "https://localhost:8080/"
        },
        "id": "o0118MBd0cjY",
        "outputId": "9cd3a729-66b6-4462-8055-43d5e519799d"
      },
      "outputs": [
        {
          "output_type": "stream",
          "name": "stdout",
          "text": [
            "Validation loss: 0.4470\n",
            "Validation accuracy: 0.8748\n"
          ]
        }
      ],
      "source": [
        "# Evaluate the model\n",
        "print('Validation loss: %.4f' % val_loss[1])\n",
        "print('Validation accuracy: %.4f' % val_acc[1])"
      ]
    },
    {
      "cell_type": "markdown",
      "metadata": {
        "id": "JzWpaawHXjZF"
      },
      "source": [
        "Let's try to make some predictions to test our BERT model."
      ]
    },
    {
      "cell_type": "markdown",
      "metadata": {
        "id": "YWRb6wqMXC6X"
      },
      "source": [
        "We need to tokenize our reviews with our pre-trained BERT tokenizer. We will then feed these tokenized sequences to our model and run a final softmax layer to get the predictions. We can then use the `argmax` function to determine whether our sentiment prediction for the review is positive or negative. Finally, we will print out a classification report and the predictions for the first 10 sentences of the test dataset with a for loop. "
      ]
    },
    {
      "cell_type": "code",
      "source": [
        "# Predicting sentiment for the test document with the BERT model\n",
        "# Inspired by: https://towardsdatascience.com/sentiment-analysis-in-10-minutes-with-bert-and-hugging-face-294e8a04b671\n",
        "\n",
        "test[\"BERT\"] = np.nan\n",
        "for idx in range(0, 25000, 10):\n",
        "    tf_batch = tokenizer(normalized_test[idx:idx+10], \n",
        "                        max_length = 256, \n",
        "                        padding = True, \n",
        "                        truncation = True, \n",
        "                        return_tensors = 'tf')\n",
        "    tf_outputs = model(tf_batch)\n",
        "    tf_predictions = tf.nn.softmax(tf_outputs[0], axis = -1)\n",
        "    label = tf.argmax(tf_predictions, axis = 1)\n",
        "    label = label.numpy()\n",
        "    test.loc[idx:idx+10-1, \"BERT\"] = label"
      ],
      "metadata": {
        "id": "nDj0H-mJnydy"
      },
      "execution_count": null,
      "outputs": []
    },
    {
      "cell_type": "code",
      "source": [
        "print(\"Classification Report\")\n",
        "print(classification_report(test.Label.to_list(), test.BERT.astype('int32').to_list()))"
      ],
      "metadata": {
        "colab": {
          "base_uri": "https://localhost:8080/"
        },
        "id": "Ot2Tny-QrMih",
        "outputId": "2efaa22f-2f58-4c3f-a999-423f2574e728"
      },
      "execution_count": null,
      "outputs": [
        {
          "output_type": "stream",
          "name": "stdout",
          "text": [
            "Classification Report\n",
            "              precision    recall  f1-score   support\n",
            "\n",
            "           0       0.78      0.95      0.86     12500\n",
            "           1       0.94      0.73      0.82     12500\n",
            "\n",
            "    accuracy                           0.84     25000\n",
            "   macro avg       0.86      0.84      0.84     25000\n",
            "weighted avg       0.86      0.84      0.84     25000\n",
            "\n"
          ]
        }
      ]
    },
    {
      "cell_type": "code",
      "source": [
        "labels = ['Negative', 'Positive']\n",
        "\n",
        "for doc in test[:10].itertuples():\n",
        "  print(f\"Review {doc.Index+1}: {doc.Text} :\\nSentiment: {labels[int(doc.BERT)]}\")"
      ],
      "metadata": {
        "colab": {
          "base_uri": "https://localhost:8080/"
        },
        "id": "pSiMAmB7DAqG",
        "outputId": "a6403a1e-3005-4abb-8b59-dfab17932d35"
      },
      "execution_count": null,
      "outputs": [
        {
          "output_type": "stream",
          "name": "stdout",
          "text": [
            "Review 1: A lovely librarian, played by Playboy model Kristine DeBell, falls asleep and dreams herself into a strange world filled with extremely uninhibited people These people love to sing and dance and fool around Alice has a series of sensual adventures among these characters <br /><br />The film was originally shot as a poem to eroticism with few explicit sex scenes, which were eventually cut from its theatrical release Videocassette versions, however, have had some of the original erotic encounters joined at the end with them <br /><br />For an extremely low-budget picture, the producers of this film did an extremely good job The cinematography is full of life and energy, the dances and numbers quite professional, and the acting lovable Without a doubt, it is one of the best adult fairy tales around :\n",
            "Sentiment: Positive\n",
            "Review 2: I suffered the watching of this movie at Sitges Festival last month. If there would be a possibility of \"unfilm\" a movie to avoid its existence, this should be the first in the list. María Lidón isn't a director, she is just a dumb woman that pretends that holding a camera with the hand and shout \"action\" makes her a professional film maker. What a mistake! The movie itself is pointless and a total waste of good actors that could be doing something better in another project. Val Kilmer does nothing but place his face in front of the camera. His character don't have specific weight in the movie. The same thing can tell about Joss Ackland, Vincent Gallo or Joaquim De Almeida. It's a shame the way Rade Serbedzija's character has been written. WARNING SPOILERS<br /><br />He spends most of the time alone in the tunnels talking with himself in the way (now I'm doing this, now I'm low of bats, I'll search in my bag, now I'm turning left, now I'm turning right...) only to bring the audience a clear idea about his actions. It's simply nonsense and proves the lack of talent of the director. END OF SPOILERS<br /><br />The usual joke about this piece of garbage among the audience was that the title of the movie itself brought the clue about the rating everyone should give it: ZERO :\n",
            "Sentiment: Negative\n",
            "Review 3: It may not have had the big budgets, celebrities or endorsements of Scream, Urban Legend or I Know What You Did Last Summer, but Campfire Tales had one thing these three movies lacked: true horror.<br /><br />This film tackled the subject of urban legends a year before the aptly titled and less than enthralling Urban Legend did. It was intriguing, masterfully scripted and logical in a way I Know What You Did Last Summer could only dream of. Finally, it held its focus and finished with a flurry while Scream fizzled and died.<br /><br />What's most exciting about the film is the variety of horror that the writers and directors achieved. The overarching story of teenagers around a campfire was classic dread at the unknown (but certainly expected) doom that awaited them in the forest, but the tales themselves are where the movie really shined.<br /><br />The opening sequence is pure, fast-paced urban myth. It's based on a popular legend, and the director plays on this with the style and pace of the action, making it more enthralling because we know what's going to happen.<br /><br />The first campfire tale is a straight-forward thriller. Based on another popular myth, we don't actually realize this until the end, both because it blends so well into the story and because the action keeps our attention. Being the thriller of the trilogy, this one plays off our fear of the unknown and includes several well-done \"jump\" sequences that don't feel nearly as cheap or contrite as those in movies like Scream or Urban Legend.<br /><br />The second tale is more suspense. This time, though the characters still don't know what's going on, we do, and this provides the horror. No need for cheap thrills here.<br /><br />The final tale contains elements of the supernatural and uses a creepy/trippy atmosphere to scare the viewer. Because we can relate so easily to the characters and their situation, our fear comes from their intensity and what they can't explain. This is the true ghost story of the trio.<br /><br />I didn't expect to enjoy Campfire Tales when I rented it. I figured that if I didn't like its more acclaimed, bigger-budget counterparts, how could I like it?<br /><br />The truth is, though, this film succeeds where the others fell far short of the mark. :\n",
            "Sentiment: Positive\n",
            "Review 4: This early film from future goremeister Lucio Fulci is a very good addition to the giallo sub-genre. Set in rural Italy, there is a serial killer of children at large. Add to the mix an array of characters familiar to fans of giallo cinema  a madwoman, a newspaper reporter, ineffectual police, a sexy siren, a priest, a mute girl, a mentally-retarded loner etc. This is one of the best Italian thrillers of the early 70's.<br /><br />Unusually for a giallo, the victims in this case are young boys, which makes a change from the more typical women in peril angle. The fact that it is kids who are the target of the maniac only serves to make things a little more uncomfortable. Fulci is pushing the envelope a bit here and he goes even further in a gloriously outrageous unPC scene where a young boy is subjected to the somewhat inappropriate attention of a sexy naked young woman (Barbara Bouchet) who he is tasked with delivering a drink to. She displays herself openly and actively invites the youngster to ogle her; ultimately asking him if he wants to go to bed with her. Although she is clearly playing around with him, it's still quite an unusual scene. Admittedly there are one or two unintentionally funny bits of dialogue here but it's very nicely photographed and Barbara Bouchet exudes high levels of confident sex-appeal. A standout scene. Even if you might feel slightly wrong watching it!<br /><br />Along with Barbara Bouchet, the other standout performance is from Florinda Bolkan, who plays a madwoman who is accused of murdering the children. She is not directly responsible but it is left to the viewer to decide whether her black magic may or may not have kicked off the subsequent killing spree. Irrespective, she is hunted down by a lynch mob and chain-whipped while a car radio blasts out rock music. This scene is very strong and unpleasant. Its viciousness indicates the path Fulci's career would subsequently go.<br /><br />Despite the visceral impact of the above murder it's maybe a little surprising that the other killings are either bloodless or committed off-screen. The only other death scene comparable with the lynch-mob is the demise of the killer at the end of the movie, although this sequence is kind of silly. The plot is convoluted and awash with red herrings, although personally, I found the identity of the killer a little predictable. This weakness is less problematic on subsequent viewings though  like most gialli, Don't Torture A Duckling is eminently re-watchable.<br /><br />Technically, the film is well made with impressive camera-work, solid acting and effective music from Riz Ortolani  particularly good is a recurring unaccompanied female vocal that sounds like it's coming from a distant hill. Fulci obviously went on to make more graphically violent horror movies but here he shows a talent for slightly more restrained material. It's still wild stuff though and is highly recommended to fans of giallo cinema. :\n",
            "Sentiment: Positive\n",
            "Review 5: I didn't see this movie until it appeared on television because I was doubtful about comic flicks. Ever since the \"Batman\" series, \"Spawn,\" \"Judge Dredd,\" and many other pitiful p.g.-13 bombs, I dodged everything at all cost. I would question in my mind, \"why can't someone make a movie that is rated R and stays true to the story, how difficult is that?\" And finally my prayers have been answered with Blade. This movie pops right out of the pages onto the screen with sheer violence, blood, martial arts, weapons, fire, the good against evil, etc. Yeah sure a lot of action flicks contain all these goodies, and most of them have bombed. But not Blade, the movie was filmed just right, not going overboard, delivering a good length and never a dull moment. Blade II is cool, but not as cool as the first. Blade is indeed one of the best real comic flicks I've seen in a long time. :\n",
            "Sentiment: Positive\n",
            "Review 6: Aliens let lose a giant monster named Zarkorr, then send down a hologram that looks your average stupid teenage girl to tell postman, Tommy Ward (Rhys Pugh, in the only movie you ever see him in) that has been chosen to fight. Also if he loses the plant goes doom, so he goes off to fight Zarkorr the Invader! This movie is bad, very bad. So bad it you need negative numbers just to gave it a rattan. Horridly written, bad directing, way below Power Rangers over-the-top wooden acting that you're just whiting for a horde of Lumberjacks to come out of no where and cut them down! And don't get me started on the theme song at the end. The people who made this stemming pall of S$@# should not be aloud near a camera or any thing to do with films. Zarkorr is a cool looking monster that should have been in a movie a million times better than this one. Do your self a favour and don't see this movie, it's 80 or so minute of life. The actors that are in this never worked again by way.<br /><br />3/10 :\n",
            "Sentiment: Negative\n",
            "Review 7: It's always interesting to catch a line in a film that winds up being somewhat prophetic for the future of an actor. In this case, I was intrigued by Edward G. Robinson's statement to Barbara Stanwyck - \"I promised you the Valley\", as he discusses the lone hold outs to his attempt to control all the land in Logasa. Ten years later, Stanwyck would star as the matriarch of the Barkley Family on \"The Big Valley\". Somehow I thought she might have looked older in the earlier picture; I guess all those bright gowns and fancy riding outfits have a way of bringing out one's youthful side.<br /><br />As for my summary line above, that's Lee Wilkison's appraisal of John Parrish (Glenn Ford), one of those hold outs mentioned earlier, shortly after Parrish uses his knowledge of military tactics to take out a number of Wilkison hands after they raid his ranch and torch his home. I liked the way the film explored his character, starting with the way he dealt with foreman Wade Matlock (Richard Jaeckel) in a calculated showdown. The set up for the ambush was also a clever maneuver, diametrically opposed to the strategy of rushing the bad guys head on with both sides fighting it out to the last man standing. For that, Parrish also had something to say - \"Never meet the enemy on his terms\".<br /><br />\"The Violent Men\" is a good title for this film, and was probably at the head of it's class in the mid 1950's, though by today's standards doesn't come close to the blood letting one will find in a \"Tombstone\" or \"Open Range\", where the bullets exact a nasty savagery. But it's shaped by fine performances from the principals, with a sub plot exploring infidelity that seemed almost ironic considering it was Stanwyck's character who was cheating. :\n",
            "Sentiment: Positive\n",
            "Review 8: I'm rather surprised that anybody found this film touching or moving.<br /><br />The basic premise of the film sounded to me like an excellent, if provocative, idea for a movie about a rare sort of relationship, but one (if I can judge by the real-life examples I've known) is extremely deep and loving.<br /><br />However, the film is cheaply scripted--poorly scripted--and although it has a number of very pretty-looking shots, I didn't find it to be anything special.<br /><br />Probably the biggest problem is that it is far too short and poorly-composed to give its audience time enough to invest, emotionally, in the characters: we don't really care about any of them, and so their stresses and obstacles don't really touch us.<br /><br />I think a REMAKE--from the screenplay up--with some character development by some really good writers--could improve it greatly. It is instructive to compare this film with Brokeback Mountain, which the screen-writers took to far loftier levels than did the author of the screenplay--screen-writers who were clearly conscious of how to write a classical tragedy, and carried out their task with care, planning, and superb craftsmanship! However, people only seem to remake those films that don't need it! You're not really missing anything if you skip this one: I found it very disappointing indeed, and it is only saved from getting a 1-star from me by virtue of the daring and gumption it took to make a film on this sensitive subject. :\n",
            "Sentiment: Negative\n",
            "Review 9: Having not read the original book or seen the earlier film, and indeed knowing nothing about the storyline of either of those or the current film, I came to this film with an open mind.<br /><br />It's really difficult to know where to start a comment on the film, because the whole thing seems so confused. It seems like there is a point or a message or something in the film, but what that is remains completely obscure.<br /><br />The effects were fantastic and very well judged. The idea was set up really well with the motivation for time travel clearly made out. However, it was downhill from here.<br /><br />All of the time travel seems to have only the vaguest connection to the quest that was set out at the start. There are some nice ideas, but they seem to be isolated occurrences that really do not flow and make the film seem disjointed and lost. At one point one wonders whether the main story in the film is the fate of the moon.<br /><br />When Hartdegen arrives in 802,701 A.D., the film becomes very frustrating as he seems to be unable to discover anything of importance about the Eloi, and while it seems clear that there is something to find out, what it is remains annoyingly elusive. This is quite an odd change from the previous time travel instances and one wonders why all of this has suddenly been abandoned for what seems like a completely new story. So many things happen that there should be an explanation for, but there is no discovery. I really, really wanted to know what the film was \"getting at\", what there was to uncover, but to no avail. Having read a summary of what happens in the book at this point, it seems like there has been a very half-hearted attempt to render this in the film but it has been so simplified and \"dumbed down\" that the meaning and context is completely lost.<br /><br />Just as we hope that we are finally to discover where this is all leading, the film suddenly takes another significant change in direction, and becomes a mindless action film without any real action. It is as if by this point the director has simply given up bothering to put any meaning into the film. By now countless significant things are happening without any explanation. Hartdegen fails to take the opportunity to return to the past on two occasions for no reason, and then suddenly loses all interest in time travel for no reason. The film comes to an abrupt end as Hartdegen decides to stay with the Eloi.<br /><br />In summary, after a good start the film is very disappointing. Too much time is spent on Hartdegen's adventures before arriving with the Eloi. However, the worst part of the film is what I think is the most important part: the setting up of the situation with the Eloi. The whole point is completely missed, and this undermines the rest of the film. After this the film concentrates too much on effects and action and all attempts to return to the meaning and core of the film seem forced and out of place. With so many things happening without explanation, the film just seems to get lost and lose direction. However, the finale where Hartdegen decides he is no longer bothered about time travel is the most inexplicable of all.<br /><br />Ultimately, the whole film seemed like a collection of unconnected incidents. The meaning and context was lost, although the gaping hole where it should have been was very obvious. What was so frustrating about it all, though, was that there was clearly so much potential here: it wasn't by any means a bad film, it just so easily could have been so much better. The start was very promising, the time travelling looked fantastic and would have worked had it not gone off on tangents, and Hartdegen's experience with the Eloi could so easily have worked had a few more of the right questions been asked, and had there not been such a temptation to \"dumb down\" and simplify. I just wish I had a time machine so that I could travel back in time and advise against the mistakes that were made. :\n",
            "Sentiment: Negative\n",
            "Review 10: Unconditional Love is one of the best movies I've seen in a while. It's an emotional roller-coaster. One of my favorite scenes is the pub scene. When Dirk tells Grace that he didn't want to go to the pub because the villagers don't like him, you expect the worst. When the old woman holds her glass up and says 'To the Memory of Victor Fox and the whole pub follows suit, I wanted to cry. The funeral scene is hysterical! Julie does it in her typical Julie Andrews style. Johnathan Pryce is excellent as Victor. Grace is one of Kathy Bates' best roles. Meredith Eaton steals just about every scene that she is in. Rupert Everett does some of his finest work in Unconditional as Dirk. The Kiss between Rupert and Meredith took me to another bout of hysterics. In this day and age of Gay rights being questioned, I think this movie should be seen by all. As a gay Man in my late 40's I have seen people lose everything when a loved one dies. So kudo's to all involved in the making of this film. :\n",
            "Sentiment: Positive\n"
          ]
        }
      ]
    }
  ],
  "metadata": {
    "accelerator": "GPU",
    "colab": {
      "collapsed_sections": [],
      "machine_shape": "hm",
      "name": "Text Classification for Sentiment Analysis using the IMDb dataset.ipynb",
      "provenance": []
    },
    "kernelspec": {
      "display_name": "Python 3",
      "name": "python3"
    },
    "language_info": {
      "name": "python"
    }
  },
  "nbformat": 4,
  "nbformat_minor": 0
}